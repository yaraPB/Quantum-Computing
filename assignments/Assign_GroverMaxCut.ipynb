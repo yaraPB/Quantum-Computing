{
 "cells": [
  {
   "cell_type": "markdown",
   "metadata": {
    "deletable": false,
    "editable": false,
    "nbgrader": {
     "cell_type": "markdown",
     "checksum": "ac08d7ea268ce6a20a0e0a0d19c24352",
     "grade": false,
     "grade_id": "cell-33da3167fca0d468",
     "locked": true,
     "schema_version": 3,
     "solution": false,
     "task": false
    }
   },
   "source": [
    "# Homework - Grover MaxCut\n",
    "\n",
    "The places where you have enter code are marked with `# YOUR CODE HERE`."
   ]
  },
  {
   "cell_type": "code",
   "execution_count": null,
   "metadata": {},
   "outputs": [],
   "source": [
    "import cirq\n",
    "from cirq import H, X, Y, Z, CX, inverse"
   ]
  },
  {
   "cell_type": "markdown",
   "metadata": {
    "deletable": false,
    "editable": false,
    "nbgrader": {
     "cell_type": "markdown",
     "checksum": "3472598b6fdd1d56b50a9706c01827f8",
     "grade": false,
     "grade_id": "cell-d981eeb5458c0744",
     "locked": true,
     "schema_version": 3,
     "solution": false,
     "task": false
    }
   },
   "source": [
    "## Question 1 (4 points)\n",
    "\n",
    "Write a function, `oracle010`, that implements an oracle that marks the state $|010 \\rangle$. The function `oracle010` has\n",
    "\n",
    "* input: `qq`, a 3-qubit register \n",
    "* returns: `None`\n",
    "\n",
    "The function should append a sequence of gates to `qq` to mark the state $|010\\rangle$ only. Don't append any measurements to `qq`.\n",
    "\n",
    "To help you test the function, we have provided the `grover_diffusion` and `grover` functions."
   ]
  },
  {
   "cell_type": "code",
   "execution_count": null,
   "metadata": {
    "deletable": false,
    "nbgrader": {
     "cell_type": "code",
     "checksum": "3234c674937c9ea97ec27157e9062acf",
     "grade": false,
     "grade_id": "cell-a08e811a0e1777c7",
     "locked": false,
     "schema_version": 3,
     "solution": true,
     "task": false
    }
   },
   "outputs": [],
   "source": [
    "def oracle010(qq):\n",
    "     # Flip the first and third qubits to turn |010> into |111>\n",
    "    yield X(qq[0]), X(qq[2])\n",
    "    # Apply CCZ gate (mark |111>)\n",
    "    yield Z.controlled(2)(qq[0], qq[1], qq[2])\n",
    "    # Flip the first and third qubits back\n",
    "    yield X(qq[0]), X(qq[2])"
   ]
  },
  {
   "cell_type": "code",
   "execution_count": null,
   "metadata": {},
   "outputs": [],
   "source": [
    "# visualize your implemented gates\n",
    "qqTest = cirq.LineQubit.range(3)\n",
    "circuit = cirq.Circuit()\n",
    "circuit.append(oracle010(qqTest))\n",
    "circuit"
   ]
  },
  {
   "cell_type": "code",
   "execution_count": null,
   "metadata": {},
   "outputs": [],
   "source": [
    "# To check your solution, we need some to implement grover\n",
    "def grover_diffusion(qq,n):\n",
    "    yield H.on_each(*qq)\n",
    "    yield X.on_each(*qq)\n",
    "    yield Z(qq[n-1]).controlled_by(*(qq[0:n-1]))\n",
    "    yield X.on_each(*qq)\n",
    "    yield H.on_each(*qq)"
   ]
  },
  {
   "cell_type": "code",
   "execution_count": null,
   "metadata": {},
   "outputs": [],
   "source": [
    "def grover(trials_number):\n",
    "    n=3\n",
    "    qq = cirq.LineQubit.range(n)\n",
    "    circuit = cirq.Circuit()\n",
    "    circuit.append(H.on_each(*qq))  \n",
    "\n",
    "    for i in range(2):\n",
    "        circuit.append(oracle010(qq))\n",
    "        circuit.append(grover_diffusion(qq,n))\n",
    "    circuit.append(cirq.measure(*qq, key='result'))\n",
    "\n",
    "    # determine the statistics of the measurements\n",
    "    s = cirq.Simulator() \n",
    "    samples = s.run(circuit, repetitions=trials_number)\n",
    "\n",
    "    def bitstring(bits):\n",
    "        return \"\".join(str(int(b)) for b in bits)\n",
    "\n",
    "    counts = samples.histogram(key=\"result\",fold_func=bitstring)\n",
    "    print(counts)\n",
    "    return counts.get('010')"
   ]
  },
  {
   "cell_type": "code",
   "execution_count": null,
   "metadata": {},
   "outputs": [],
   "source": [
    "# run grover to test if your function gives the right answer\n",
    "grover(100)"
   ]
  },
  {
   "cell_type": "code",
   "execution_count": null,
   "metadata": {
    "deletable": false,
    "editable": false,
    "nbgrader": {
     "cell_type": "code",
     "checksum": "cf2c533cdb00d2a3feebe35eda382c3e",
     "grade": true,
     "grade_id": "cell-c892138426ad8ca2",
     "locked": true,
     "points": 4,
     "schema_version": 3,
     "solution": false,
     "task": false
    }
   },
   "outputs": [],
   "source": [
    "# hidden tests in this cell will be used for grading."
   ]
  },
  {
   "cell_type": "markdown",
   "metadata": {
    "deletable": false,
    "editable": false,
    "nbgrader": {
     "cell_type": "markdown",
     "checksum": "7f228055f783a050ae26ee080abbc49c",
     "grade": false,
     "grade_id": "cell-cd7b8bfe0163bb3c",
     "locked": true,
     "schema_version": 3,
     "solution": false,
     "task": false
    }
   },
   "source": [
    "## Question 2 (6 points)\n",
    "\n",
    "Graph $G$ has 5 vertices and 6 edges: (0,3), (0,4), (1,3), (1,4), (2,3), (2,4).\n",
    "\n",
    "Write an oracle for the graph $G$ to check whether it admits a valid 2-coloring. \n",
    "\n",
    "The function `oracle2` has\n",
    "\n",
    "* input: `qq`, a 12-qubit register \n",
    "* returns: `None`\n",
    "\n",
    "The function should append only a sequence of gates to `qq`. It should not append any measurements to `qq`.\n",
    "\n",
    "Use qubits 0-4 for the vertices, 5-10 for the edges and 11 as the ancilla. \n",
    "\n",
    "You can test the oracle with the provided `grover_diffusion`, `grover` and `oracle_computation2` functions."
   ]
  },
  {
   "cell_type": "code",
   "execution_count": null,
   "metadata": {
    "deletable": false,
    "nbgrader": {
     "cell_type": "code",
     "checksum": "16112e54c261f4b68868827304f15052",
     "grade": false,
     "grade_id": "cell-d0a829ac63d428cc",
     "locked": false,
     "schema_version": 3,
     "solution": true,
     "task": false
    }
   },
   "outputs": [],
   "source": [
    "def oracle2(qq):\n",
    "    # Qubit assignments:\n",
    "    # Vertices: 0-4\n",
    "    # Edges: 5-10 (6 edges)\n",
    "    # Ancilla: 11\n",
    "    \n",
    "    edges = [(0,3), (0,4), (1,3), (1,4), (2,3), (2,4)]\n",
    "    \n",
    "    # Check each edge and store the result in edge qubits\n",
    "    for i, (u, v) in enumerate(edges):\n",
    "        edge_qubit = 5 + i\n",
    "        # The edge qubit should be |1> if u and v are different\n",
    "        yield CX(qq[u], qq[edge_qubit])\n",
    "        yield CX(qq[v], qq[edge_qubit])\n",
    "    \n",
    "    # Flip the ancilla if all edge qubits are |1>\n",
    "    yield X(qq[11]).controlled_by(*[qq[i] for i in range(5, 11)])\n",
    "    \n",
    "    # Uncompute the edge qubits to restore them to |0>\n",
    "    for i, (u, v) in enumerate(edges[::-1]):  # reverse order to properly uncompute\n",
    "        edge_qubit = 5 + (len(edges) - 1 - i)\n",
    "        yield CX(qq[v], qq[edge_qubit])\n",
    "        yield CX(qq[u], qq[edge_qubit])"
   ]
  },
  {
   "cell_type": "code",
   "execution_count": null,
   "metadata": {},
   "outputs": [],
   "source": [
    "# We need some code so you can check your solution\n",
    "def oracle_computation2(qq):\n",
    "    yield oracle2(qq)\n",
    "    yield Z(qq[11])\n",
    "    yield inverse(oracle2(qq))  "
   ]
  },
  {
   "cell_type": "code",
   "execution_count": null,
   "metadata": {},
   "outputs": [],
   "source": [
    "def grover2(trials_number):    \n",
    "    import cirq\n",
    "    from cirq import X, H, Z, inverse, CX\n",
    "    s = cirq.Simulator()\n",
    "\n",
    "    qq = cirq.LineQubit.range(12)\n",
    "    n=5\n",
    "    \n",
    "    circuit = cirq.Circuit()\n",
    "    circuit.append(H.on_each(*(qq[0:n])))\n",
    "    for i in range(2):\n",
    "        circuit.append(oracle_computation2(qq))\n",
    "        circuit.append(grover_diffusion(qq,n))\n",
    "\n",
    "    circuit.append(cirq.measure(*(qq[0:n]), key='result'))\n",
    "\n",
    "    # determine the statistics of the measurements\n",
    "    samples = s.run(circuit, repetitions=trials_number)\n",
    "    result = samples.measurements[\"result\"]\n",
    "\n",
    "    def bitstring(bits):\n",
    "        return \"\".join(str(int(b)) for b in bits)\n",
    "\n",
    "    counts = samples.histogram(key=\"result\",fold_func=bitstring)\n",
    "    return counts"
   ]
  },
  {
   "cell_type": "code",
   "execution_count": null,
   "metadata": {},
   "outputs": [],
   "source": [
    "#You can use this cell to test your solution\n",
    "shots=1000\n",
    "grover2(shots)"
   ]
  },
  {
   "cell_type": "code",
   "execution_count": null,
   "metadata": {
    "deletable": false,
    "editable": false,
    "nbgrader": {
     "cell_type": "code",
     "checksum": "4246ce18f04e859e5569cd7b80a1a3ee",
     "grade": true,
     "grade_id": "cell-f3af2ece23c10d8c",
     "locked": true,
     "points": 6,
     "schema_version": 3,
     "solution": false,
     "task": false
    }
   },
   "outputs": [],
   "source": [
    "# hidden tests in this cell will be used for grading."
   ]
  },
  {
   "cell_type": "markdown",
   "metadata": {
    "deletable": false,
    "editable": false,
    "nbgrader": {
     "cell_type": "markdown",
     "checksum": "4688464dab8ef5a5368bb0bb80dec0a2",
     "grade": false,
     "grade_id": "cell-70019a2ede111a61",
     "locked": true,
     "schema_version": 3,
     "solution": false,
     "task": false
    }
   },
   "source": [
    "## Question 3 (10 points)\n",
    "\n",
    "Graph $G$ has 4 vertices and 5 edges: (0,1), (0,2), (0,3), (1,2), (1,3)\n",
    "\n",
    "Write an oracle for the graph $G$ to check whether there exists a coloring with at least 4 edges connecting vertices with different colors.\n",
    "\n",
    "The function `oracle3` has\n",
    "\n",
    "* input: `qq`, a 13-qubit register \n",
    "* returns: `None`\n",
    "\n",
    "The function should append only a sequence of gates to `qq`. It should not append any measurements to `qq`.\n",
    "\n",
    "Use qubits \n",
    "- 0-3 for the vertices,\n",
    "- 4-8 for the edges,\n",
    "- 9-11 for the addition (remember we need three qubits here for addition unlike the last question), and\n",
    "- 12 as the ancilla.\n",
    "\n",
    "You can test the oracle with the provided `grover_diffusion`, `grover` and `oracle_computation3` functions."
   ]
  },
  {
   "cell_type": "code",
   "execution_count": null,
   "metadata": {
    "deletable": false,
    "nbgrader": {
     "cell_type": "code",
     "checksum": "143856f98ba27993913f66a2e3ee33cf",
     "grade": false,
     "grade_id": "cell-a88eeb3907a822ff",
     "locked": false,
     "schema_version": 3,
     "solution": true,
     "task": false
    }
   },
   "outputs": [],
   "source": [
    "def oracle3(qq):\n",
    "    edges = [(0, 1), (0, 2), (0, 3), (1, 2), (1, 3)]\n",
    "    \n",
    "    # Step 1: Encode edge validities (XOR results into edge qubits 4-8)\n",
    "    for i, (u, v) in enumerate(edges):\n",
    "        edge_qubit = 4 + i\n",
    "        yield CX(qq[u], qq[edge_qubit])\n",
    "        yield CX(qq[v], qq[edge_qubit])\n",
    "    \n",
    "    # Step 2: Count valid edges into addition qubits 9-11 (3-bit counter)\n",
    "    for edge_idx in range(5):\n",
    "        e = 4 + edge_idx  # Current edge qubit\n",
    "        \n",
    "        # Increment counter by 1 if edge is valid (controlled by e)\n",
    "        # First, handle the least significant bit (qubit 9)\n",
    "        yield CX(qq[e], qq[9])\n",
    "        \n",
    "        # Now handle the carry to qubit 10 if both e and qubit 9 were 1\n",
    "        yield CCX(qq[e], qq[9], qq[10])\n",
    "        \n",
    "        # Handle carry to qubit 11 if e, qubit 9, and qubit 10 are all 1\n",
    "        yield CCX(qq[e], qq[10], qq[11])\n",
    "    \n",
    "    # Step 3: Check if count >=4 (MSB qubit 11 is |1>)\n",
    "    yield CX(qq[11], qq[12])\n",
    "    \n",
    "    # Step 4: Uncompute the counter\n",
    "    for edge_idx in reversed(range(5)):\n",
    "        e = 4 + edge_idx\n",
    "        \n",
    "        # Uncompute carry to qubit 11\n",
    "        yield CCX(qq[e], qq[10], qq[11])\n",
    "        \n",
    "        # Uncompute carry to qubit 10\n",
    "        yield CCX(qq[e], qq[9], qq[10])\n",
    "        \n",
    "        # Uncompute LSB\n",
    "        yield CX(qq[e], qq[9])\n",
    "    \n",
    "    # Step 5: Uncompute edge validities\n",
    "    for i, (u, v) in enumerate(reversed(edges)):\n",
    "        edge_qubit = 4 + (len(edges) - 1 - i)\n",
    "        yield CX(qq[v], qq[edge_qubit])\n",
    "        yield CX(qq[u], qq[edge_qubit])"
   ]
  },
  {
   "cell_type": "code",
   "execution_count": null,
   "metadata": {},
   "outputs": [],
   "source": [
    "# We need some code so you can check your solution\n",
    "def oracle_computation3(qq):\n",
    "    yield oracle3(qq)\n",
    "    yield Z(qq[12])\n",
    "    yield inverse(oracle3(qq))  "
   ]
  },
  {
   "cell_type": "code",
   "execution_count": null,
   "metadata": {},
   "outputs": [],
   "source": [
    "import cirq\n",
    "from cirq import X, H, Z, inverse, CX, CCX\n",
    "    \n",
    "def grover3(trials_number):    \n",
    "    s = cirq.Simulator()\n",
    "\n",
    "    qq = cirq.LineQubit.range(13)\n",
    "    n=4\n",
    "\n",
    "    circuit = cirq.Circuit()\n",
    "    circuit.append(H.on_each(*(qq[0:n])))\n",
    "    for i in range(2):\n",
    "        circuit.append(oracle_computation3(qq))\n",
    "        circuit.append(grover_diffusion(qq,n))\n",
    "\n",
    "    circuit.append(cirq.measure(*(qq[0:n]), key='result'))\n",
    "\n",
    "    # determine the statistics of the measurements\n",
    "    samples = s.run(circuit, repetitions=trials_number)\n",
    "    result = samples.measurements[\"result\"]\n",
    "\n",
    "    def bitstring(bits):\n",
    "        return \"\".join(str(int(b)) for b in bits)\n",
    "\n",
    "    counts = samples.histogram(key=\"result\",fold_func=bitstring)\n",
    "    return counts"
   ]
  },
  {
   "cell_type": "code",
   "execution_count": null,
   "metadata": {},
   "outputs": [],
   "source": [
    "#You can use this cell to test your solution\n",
    "shots=1000\n",
    "grover3(shots)"
   ]
  },
  {
   "cell_type": "code",
   "execution_count": null,
   "metadata": {
    "deletable": false,
    "editable": false,
    "nbgrader": {
     "cell_type": "code",
     "checksum": "2fb4f23a2628baa5c4bbd53548198e9c",
     "grade": true,
     "grade_id": "cell-e70ddbb5f64a88b3",
     "locked": true,
     "points": 10,
     "schema_version": 3,
     "solution": false,
     "task": false
    }
   },
   "outputs": [],
   "source": [
    "# hidden tests in this cell will be used for grading."
   ]
  },
  {
   "cell_type": "code",
   "execution_count": null,
   "metadata": {},
   "outputs": [],
   "source": []
  }
 ],
 "metadata": {
  "kernelspec": {
   "display_name": "base",
   "language": "python",
   "name": "python3"
  },
  "language_info": {
   "codemirror_mode": {
    "name": "ipython",
    "version": 3
   },
   "file_extension": ".py",
   "mimetype": "text/x-python",
   "name": "python",
   "nbconvert_exporter": "python",
   "pygments_lexer": "ipython3",
   "version": "3.12.7"
  }
 },
 "nbformat": 4,
 "nbformat_minor": 4
}
