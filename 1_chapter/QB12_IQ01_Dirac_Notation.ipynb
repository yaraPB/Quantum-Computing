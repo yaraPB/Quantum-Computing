{
  "cells": [
    {
      "cell_type": "markdown",
      "metadata": {
        "id": "IGTScqAh5SN7"
      },
      "source": [
        "<a href=\"https://qworld.net\" target=\"_blank\" align=\"left\"><img src=\"https://gitlab.com/qworld/qeducation/qbook101/raw/main/qworld/images/header.jpg\" align=\"left\"></a>\n",
        "$ \\newcommand{\\bra}[1]{\\langle #1|} $\n",
        "$ \\newcommand{\\ket}[1]{|#1\\rangle} $\n",
        "$ \\newcommand{\\braket}[2]{\\langle #1|#2\\rangle} $\n",
        "$ \\newcommand{\\dot}[2]{ #1 \\cdot #2} $\n",
        "$ \\newcommand{\\biginner}[2]{\\left\\langle #1,#2\\right\\rangle} $\n",
        "$ \\newcommand{\\mymatrix}[2]{\\left( \\begin{array}{#1} #2\\end{array} \\right)} $\n",
        "$ \\newcommand{\\myvector}[1]{\\mymatrix{c}{#1}} $\n",
        "$ \\newcommand{\\myrvector}[1]{\\mymatrix{r}{#1}} $\n",
        "$ \\newcommand{\\mypar}[1]{\\left( #1 \\right)} $\n",
        "$ \\newcommand{\\mybigpar}[1]{ \\Big( #1 \\Big)} $\n",
        "$ \\newcommand{\\sqrttwo}{\\frac{1}{\\sqrt{2}}} $\n",
        "$ \\newcommand{\\dsqrttwo}{\\dfrac{1}{\\sqrt{2}}} $\n",
        "$ \\newcommand{\\onehalf}{\\frac{1}{2}} $\n",
        "$ \\newcommand{\\donehalf}{\\dfrac{1}{2}} $\n",
        "$ \\newcommand{\\hadamard}{ \\mymatrix{rr}{ \\sqrttwo & \\sqrttwo \\\\ \\sqrttwo & -\\sqrttwo }} $\n",
        "$ \\newcommand{\\vzero}{\\myvector{1\\\\0}} $\n",
        "$ \\newcommand{\\vone}{\\myvector{0\\\\1}} $\n",
        "$ \\newcommand{\\stateplus}{\\myvector{ \\sqrttwo \\\\  \\sqrttwo } } $\n",
        "$ \\newcommand{\\stateminus}{ \\myrvector{ \\sqrttwo \\\\ -\\sqrttwo } } $\n",
        "$ \\newcommand{\\myarray}[2]{ \\begin{array}{#1}#2\\end{array}} $\n",
        "$ \\newcommand{\\X}{ \\mymatrix{cc}{0 & 1 \\\\ 1 & 0}  } $\n",
        "$ \\newcommand{\\Z}{ \\mymatrix{rr}{1 & 0 \\\\ 0 & -1}  } $\n",
        "$ \\newcommand{\\Htwo}{ \\mymatrix{rrrr}{ \\frac{1}{2} & \\frac{1}{2} & \\frac{1}{2} & \\frac{1}{2} \\\\ \\frac{1}{2} & -\\frac{1}{2} & \\frac{1}{2} & -\\frac{1}{2} \\\\ \\frac{1}{2} & \\frac{1}{2} & -\\frac{1}{2} & -\\frac{1}{2} \\\\ \\frac{1}{2} & -\\frac{1}{2} & -\\frac{1}{2} & \\frac{1}{2} } } $\n",
        "$ \\newcommand{\\CNOT}{ \\mymatrix{cccc}{1 & 0 & 0 & 0 \\\\ 0 & 1 & 0 & 0 \\\\ 0 & 0 & 0 & 1 \\\\ 0 & 0 & 1 & 0} } $\n",
        "$ \\newcommand{\\norm}[1]{ \\left\\lVert #1 \\right\\rVert } $\n",
        "$ \\newcommand{\\pstate}[1]{ \\lceil \\mspace{-1mu} #1 \\mspace{-1.5mu} \\rfloor } $"
      ]
    },
    {
      "cell_type": "markdown",
      "metadata": {
        "id": "Tsk5WrQA5SN8"
      },
      "source": [
        "_prepared by Claudia Zendejas-Morales_"
      ]
    },
    {
      "cell_type": "markdown",
      "metadata": {
        "id": "DoUA8VqX5SN8"
      },
      "source": [
        "<font size=\"28px\" style=\"font-size:28px;\" align=\"left\"><b> Dirac Notation (bra-ket notation) </b></font>\n",
        "<br>\n",
        "<br><br>"
      ]
    },
    {
      "cell_type": "markdown",
      "metadata": {
        "id": "YOvP1GjR5SN8",
        "jp-MarkdownHeadingCollapsed": true
      },
      "source": [
        "##### <font color=\"#08b806\">Please execute the following cell, it is necessary to distinguish between your local environment and Google Colab's"
      ]
    },
    {
      "cell_type": "code",
      "execution_count": 1,
      "metadata": {
        "id": "90wMX-dL5SN8"
      },
      "outputs": [],
      "source": [
        "import IPython\n",
        "\n",
        "def in_colab():\n",
        "    try:\n",
        "        import google.colab\n",
        "        return True\n",
        "    except:\n",
        "        return False\n",
        "\n",
        "SolutionToTask1 = lambda: IPython.display.display(IPython.display.Javascript('window.open(\"{url}\");'.format(url='https://colab.research.google.com/drive/1f41-gxtKku1mOASvoUqiwWo1-lnUDAkh?usp=sharing#scrollTo=cjvUdAAz2AWC' if in_colab() else 'QB12_IQ01_Dirac_Notation_Solutions.ipynb#task1')))\n",
        "SolutionToTask2 = lambda: IPython.display.display(IPython.display.Javascript('window.open(\"{url}\");'.format(url='https://colab.research.google.com/drive/1f41-gxtKku1mOASvoUqiwWo1-lnUDAkh?usp=sharing#scrollTo=wImB1x3h2AWC' if in_colab() else 'QB12_IQ01_Dirac_Notation_Solutions.ipynb#task2')))\n",
        "SolutionToTask3 = lambda: IPython.display.display(IPython.display.Javascript('window.open(\"{url}\");'.format(url='https://colab.research.google.com/drive/1f41-gxtKku1mOASvoUqiwWo1-lnUDAkh?usp=sharing#scrollTo=24vbei-b2AWE' if in_colab() else 'QB12_IQ01_Dirac_Notation_Solutions.ipynb#task3')))\n",
        "SolutionToTask4 = lambda: IPython.display.display(IPython.display.Javascript('window.open(\"{url}\");'.format(url='https://colab.research.google.com/drive/1f41-gxtKku1mOASvoUqiwWo1-lnUDAkh?usp=sharing#scrollTo=evZUuAZc2AWE' if in_colab() else 'QB12_IQ01_Dirac_Notation_Solutions.ipynb#task4')))"
      ]
    },
    {
      "cell_type": "markdown",
      "metadata": {
        "id": "EDM7En9W5SN8"
      },
      "source": [
        "##### &nbsp;\n",
        "\n",
        "**Dirac notation** or bra-ket notation, is used in linear algebra on complex **vector spaces** along with their dual space in both the finite-dimensional and infinite-dimensional cases. It is specifically designed to facilitate the types of calculations that frequently arise in quantum mechanics. Bra-ket notation was created by Paul Dirac in 1939.\n",
        "\n",
        "In mathematics and physics textbooks, vectors are often distinguished from scalars by writing an arrow over the identifying symbol: $\\vec{a}$. Sometimes boldface is used for this purpose: $\\mathbf{a}$. In the Dirac notation, the symbol identifying a **vector** is written inside a _**ket**_,\n",
        "\n",
        "$$\\ket{a}$$\n",
        "\n",
        "We denote the **dual vector** for $a$ with a _**bra**_,\n",
        "\n",
        "$$\\bra{a}$$\n",
        "\n",
        "Then, inner products will be written as _**bra-kets**_,\n",
        "\n",
        "$$\\braket{a}{b}$$\n",
        "\n",
        "The _dual vector_ $\\bra{a}$ is obtained by taking the transpose of $\\ket{a}$ and taking the complex conjugate of each element (the [Hermitian transpose](https://en.wikipedia.org/wiki/Conjugate_transpose)), that is,\n",
        "\n",
        "$$\\ket{a}=\\mymatrix{r}{a_1 \\\\ a_2 \\\\ a_3 \\\\ \\vdots \\\\ a_n}~~~~~~\\Rightarrow~~~~~~\\bra{a}=\\mymatrix{r}{a_1^* & a_2^* & a_3^* & \\cdots & a_n^*}$$\n",
        "\n",
        "The collection of all _bras_ constitutes another vector space, the so-called **dual space**."
      ]
    },
    {
      "cell_type": "markdown",
      "metadata": {
        "id": "TK6_tfeW5SN9"
      },
      "source": [
        "<h3>Task 1 (on paper)</h3>\n",
        "\n",
        "Find the _bra_ of the _ket_ $\\ket{w}$.\n",
        "\n",
        "$$\\ket{w}=\\mymatrix{c}{3+4i \\\\ -5 \\\\ 2-i \\\\ 6i \\\\ -0.3-3i}$$\n"
      ]
    },
    {
      "cell_type": "markdown",
      "metadata": {
        "id": "JLN_xI4v5SN9"
      },
      "source": [
        "To check out our solution, run the next cell:"
      ]
    },
    {
      "cell_type": "code",
      "execution_count": 2,
      "metadata": {
        "id": "DjeMA1yM5SN9"
      },
      "outputs": [
        {
          "data": {
            "application/javascript": "window.open(\"QB12_IQ01_Dirac_Notation_Solutions.ipynb#task1\");",
            "text/plain": [
              "<IPython.core.display.Javascript object>"
            ]
          },
          "metadata": {},
          "output_type": "display_data"
        }
      ],
      "source": [
        "SolutionToTask1()  # show solution for task 1"
      ]
    },
    {
      "cell_type": "markdown",
      "metadata": {
        "id": "CWnFpAeh5SN9"
      },
      "source": [
        "<h3>Task 2</h3>\n",
        "\n",
        "Do the same as in Task 1, but using Python code."
      ]
    },
    {
      "cell_type": "markdown",
      "metadata": {},
      "source": [
        "# The difference between column and rows in vectors\n",
        "\n",
        "```python\n",
        "v_col = np.array([[1], [2], [3], [4], [5]])  # Shape: (5,1)\n",
        "```\n",
        "**Is not the same as**\n",
        "```python\n",
        "v = np.array([1, 2, 3, 4, 5])  # Shape: (5,) -> 1D array\n",
        "# this is not explicitely a column or row, just a 1D structure\n",
        "```\n",
        "\n",
        "> Think of it this way: the first one is 5 rows of values, while the second one is a single row of values\n",
        "> If we wanted to explicitely represent a row vector:\n",
        "> ```python\n",
        "> v_row = np.array([[1, 2, 3, 4, 5]])  # Shape: (1,5)\n",
        "> ```"
      ]
    },
    {
      "cell_type": "code",
      "execution_count": 32,
      "metadata": {
        "id": "ie0rKonr5SN9"
      },
      "outputs": [
        {
          "name": "stdout",
          "output_type": "stream",
          "text": [
            "[3.-4.j]\n",
            "[-5.-0.j]\n",
            "[2.+1.j]\n",
            "[0.-6.j]\n",
            "[-0.3+3.j]\n",
            "\n",
            "[[ 3. -4.j -5. -0.j  2. +1.j  0. -6.j -0.3+3.j]]\n"
          ]
        }
      ],
      "source": [
        "import numpy as np\n",
        "\n",
        "# 5 rows and 1 columns \n",
        "\n",
        "ketW = [ \n",
        "    [complex(3, 4)],\n",
        "    [complex(-5, 0)],\n",
        "    [complex(2, -1)], \n",
        "    [complex(0,6)], \n",
        "    [complex(-0.3, -3)]\n",
        "       ]\n",
        "\n",
        "arr = [0] * len(ketW)\n",
        "\n",
        "#conjugate\n",
        "for i in range (len(ketW)):\n",
        "    arr[i] = np.conjugate(ketW[i])\n",
        "    print(arr[i])\n",
        "\n",
        "print()\n",
        "tranW = np.transpose(arr)\n",
        "\n",
        "print(tranW)\n"
      ]
    },
    {
      "cell_type": "markdown",
      "metadata": {
        "id": "EoRKHMME5SN9"
      },
      "source": [
        "To check out our solution, run the next cell:"
      ]
    },
    {
      "cell_type": "code",
      "execution_count": null,
      "metadata": {
        "id": "Fmg6ihpn5SN9"
      },
      "outputs": [
        {
          "data": {
            "application/javascript": "window.open(\"QB12_IQ01_Dirac_Notation_Solutions.ipynb#task2\");",
            "text/plain": [
              "<IPython.core.display.Javascript object>"
            ]
          },
          "metadata": {},
          "output_type": "display_data"
        },
        {
          "name": "stdout",
          "output_type": "stream",
          "text": [
            "[[ 81. +0.j  -9.-27.j  63.+63.j   0.-54.j  36. +0.j]\n",
            " [ -9.+27.j  10. +0.j -28.+14.j  18. +6.j  -4.+12.j]\n",
            " [ 63.-63.j -28.-14.j  98. +0.j -42.-42.j  28.-28.j]\n",
            " [  0.+54.j  18. -6.j -42.+42.j  36. +0.j   0.+24.j]\n",
            " [ 36. +0.j  -4.-12.j  28.+28.j   0.-24.j  16. +0.j]]\n"
          ]
        }
      ],
      "source": [
        "SolutionToTask2()  # show solution for task 2\n"
      ]
    },
    {
      "cell_type": "markdown",
      "metadata": {
        "id": "3X-dG-RQ5SN9"
      },
      "source": [
        "<br><br>\n",
        "\n",
        "If $\\ket{a}$ is a normalized vector, the operator $\\hat{P\\,}$, called **projection operator**,\n",
        "\n",
        "$$\\hat{P\\,}=\\ket{a}\\bra{a}$$\n",
        "\n",
        "picks out the portion of any other vector that 'lies along' $\\ket{a}$:\n",
        "\n",
        "$$\\hat{P\\,}\\ket{b}=\\ket{a}\\bra{a} \\; \\ket{b}=\\left(\\braket{a}{b}\\right) \\; \\ket{a}$$\n"
      ]
    },
    {
      "cell_type": "markdown",
      "metadata": {
        "id": "T6cW24R45SN9"
      },
      "source": [
        "<h3>Task 3 (on paper)</h3>\n",
        "\n",
        "Find the projection operator of $\\ket{v}$.\n",
        "\n",
        "$$\\ket{v}=\\mymatrix{c}{-9i \\\\ 3+i \\\\ -7-7i \\\\ 6 \\\\ -4i}$$\n",
        "\n",
        "What do you observe in the diagonal values?"
      ]
    },
    {
      "cell_type": "markdown",
      "metadata": {
        "id": "3yY5qetU5SN9"
      },
      "source": [
        "To check out our solution, run the next cell:"
      ]
    },
    {
      "cell_type": "code",
      "execution_count": null,
      "metadata": {
        "id": "zMzJ_61z5SN9"
      },
      "outputs": [],
      "source": [
        "SolutionToTask3()  # show solution for task 3"
      ]
    },
    {
      "cell_type": "markdown",
      "metadata": {
        "id": "CedzFMpA5SN9"
      },
      "source": [
        "<h3>Task 4 (on paper)</h3>\n",
        "\n",
        "Find the _bra-kets_ (or inner products): $\\braket{x}{y}$ and $\\braket{y}{x}$.\n",
        "\n",
        "$$\\ket{x}=\\mymatrix{c}{\\dfrac{3+4i}{2} \\\\ 2-i \\\\ -8i \\\\ \\dfrac{i}{2}}~~~~~~,~~~~~~\\ket{y}=\\mymatrix{c}{-i \\\\ \\dfrac{-2-i}{2} \\\\ 3 \\\\ \\dfrac{1+i}{2}}$$\n",
        "\n",
        "What can be said about the results?"
      ]
    },
    {
      "cell_type": "markdown",
      "metadata": {
        "id": "codWwG055SN9"
      },
      "source": [
        "To check out our solution, run the next cell:"
      ]
    },
    {
      "cell_type": "code",
      "execution_count": null,
      "metadata": {
        "id": "IHEdGU0M5SN9"
      },
      "outputs": [],
      "source": [
        "SolutionToTask4()  # show solution for task 4"
      ]
    }
  ],
  "metadata": {
    "colab": {
      "collapsed_sections": [
        "YOvP1GjR5SN8"
      ],
      "provenance": []
    },
    "kernelspec": {
      "display_name": "base",
      "language": "python",
      "name": "python3"
    },
    "language_info": {
      "codemirror_mode": {
        "name": "ipython",
        "version": 3
      },
      "file_extension": ".py",
      "mimetype": "text/x-python",
      "name": "python",
      "nbconvert_exporter": "python",
      "pygments_lexer": "ipython3",
      "version": "3.12.7"
    }
  },
  "nbformat": 4,
  "nbformat_minor": 0
}
