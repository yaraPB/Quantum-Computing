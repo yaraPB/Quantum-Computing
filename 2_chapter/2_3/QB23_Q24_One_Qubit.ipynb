{
  "cells": [
    {
      "cell_type": "markdown",
      "metadata": {
        "id": "Pg_RpFyT5__a"
      },
      "source": [
        "<a href=\"https://qworld.net\" target=\"_blank\" align=\"left\"><img src=\"https://gitlab.com/qworld/qeducation/qbook101/raw/main/qworld/images/header.jpg\" align=\"left\"></a>\n",
        "$ \\newcommand{\\bra}[1]{\\langle #1|} $\n",
        "$ \\newcommand{\\ket}[1]{|#1\\rangle} $\n",
        "$ \\newcommand{\\braket}[2]{\\langle #1|#2\\rangle} $\n",
        "$ \\newcommand{\\dot}[2]{ #1 \\cdot #2} $\n",
        "$ \\newcommand{\\biginner}[2]{\\left\\langle #1,#2\\right\\rangle} $\n",
        "$ \\newcommand{\\mymatrix}[2]{\\left( \\begin{array}{#1} #2\\end{array} \\right)} $\n",
        "$ \\newcommand{\\myvector}[1]{\\mymatrix{c}{#1}} $\n",
        "$ \\newcommand{\\myrvector}[1]{\\mymatrix{r}{#1}} $\n",
        "$ \\newcommand{\\mypar}[1]{\\left( #1 \\right)} $\n",
        "$ \\newcommand{\\mybigpar}[1]{ \\Big( #1 \\Big)} $\n",
        "$ \\newcommand{\\sqrttwo}{\\frac{1}{\\sqrt{2}}} $\n",
        "$ \\newcommand{\\dsqrttwo}{\\dfrac{1}{\\sqrt{2}}} $\n",
        "$ \\newcommand{\\onehalf}{\\frac{1}{2}} $\n",
        "$ \\newcommand{\\donehalf}{\\dfrac{1}{2}} $\n",
        "$ \\newcommand{\\hadamard}{ \\mymatrix{rr}{ \\sqrttwo & \\sqrttwo \\\\ \\sqrttwo & -\\sqrttwo }} $\n",
        "$ \\newcommand{\\vzero}{\\myvector{1\\\\0}} $\n",
        "$ \\newcommand{\\vone}{\\myvector{0\\\\1}} $\n",
        "$ \\newcommand{\\stateplus}{\\myvector{ \\sqrttwo \\\\  \\sqrttwo } } $\n",
        "$ \\newcommand{\\stateminus}{ \\myrvector{ \\sqrttwo \\\\ -\\sqrttwo } } $\n",
        "$ \\newcommand{\\myarray}[2]{ \\begin{array}{#1}#2\\end{array}} $\n",
        "$ \\newcommand{\\X}{ \\mymatrix{cc}{0 & 1 \\\\ 1 & 0}  } $\n",
        "$ \\newcommand{\\I}{ \\mymatrix{rr}{1 & 0 \\\\ 0 & 1}  } $\n",
        "$ \\newcommand{\\Z}{ \\mymatrix{rr}{1 & 0 \\\\ 0 & -1}  } $\n",
        "$ \\newcommand{\\Htwo}{ \\mymatrix{rrrr}{ \\frac{1}{2} & \\frac{1}{2} & \\frac{1}{2} & \\frac{1}{2} \\\\ \\frac{1}{2} & -\\frac{1}{2} & \\frac{1}{2} & -\\frac{1}{2} \\\\ \\frac{1}{2} & \\frac{1}{2} & -\\frac{1}{2} & -\\frac{1}{2} \\\\ \\frac{1}{2} & -\\frac{1}{2} & -\\frac{1}{2} & \\frac{1}{2} } } $\n",
        "$ \\newcommand{\\CNOT}{ \\mymatrix{cccc}{1 & 0 & 0 & 0 \\\\ 0 & 1 & 0 & 0 \\\\ 0 & 0 & 0 & 1 \\\\ 0 & 0 & 1 & 0} } $\n",
        "$ \\newcommand{\\norm}[1]{ \\left\\lVert #1 \\right\\rVert } $\n",
        "$ \\newcommand{\\pstate}[1]{ \\lceil \\mspace{-1mu} #1 \\mspace{-1.5mu} \\rfloor } $\n",
        "$ \\newcommand{\\greenbit}[1] {\\mathbf{{\\color{green}#1}}} $\n",
        "$ \\newcommand{\\bluebit}[1] {\\mathbf{{\\color{blue}#1}}} $\n",
        "$ \\newcommand{\\redbit}[1] {\\mathbf{{\\color{red}#1}}} $\n",
        "$ \\newcommand{\\brownbit}[1] {\\mathbf{{\\color{brown}#1}}} $\n",
        "$ \\newcommand{\\blackbit}[1] {\\mathbf{{\\color{black}#1}}} $"
      ]
    },
    {
      "cell_type": "markdown",
      "metadata": {
        "id": "4W8bMtlm5__d"
      },
      "source": [
        "_prepared by Abuzer Yakaryilmaz_"
      ]
    },
    {
      "cell_type": "markdown",
      "metadata": {
        "id": "3e59YqJl5__e"
      },
      "source": [
        "<font size=\"28px\" style=\"font-size:28px;\" align=\"left\"><b> One Qubit </b></font>\n",
        "<br>\n",
        "<br><br>\n",
        "[<img src=\"https://gitlab.com/qworld/qeducation/qbook101/raw/main/qworld/images/watch_lecture.jpg\" align=\"left\">](https://youtu.be/MTsgLSrTNbY)\n",
        "<br><br><br>"
      ]
    },
    {
      "cell_type": "markdown",
      "metadata": {
        "id": "8OY1lBuk5__e"
      },
      "source": [
        "_Quantum systems are linear systems: \"The quantum states are represented by vectors and quantum operators are represented by matrices. The new quantum states are calculated by corresponding matrix-vector multiplications.\"_\n",
        "\n",
        "A qubit (quantum bit) has two states: state 0 and state 1.\n",
        "\n",
        "They are denoted by ket-notation:\n",
        "\n",
        "$ \\ket{0} = \\myvector{1 \\\\ 0} $ and $ \\ket{1} = \\myvector{0\\\\ 1} $.\n",
        "\n"
      ]
    },
    {
      "cell_type": "markdown",
      "metadata": {
        "id": "XBZP0yxk5__e"
      },
      "source": [
        "<h3> NOT operator </h3>\n",
        "\n",
        "NOT operator flips the value of a qubit.\n",
        "\n",
        "We use capital letter for the matrix form of the operators:\n",
        "\n",
        "$ X = \\X$."
      ]
    },
    {
      "cell_type": "markdown",
      "metadata": {
        "id": "ZcOQgHdZ5__e"
      },
      "source": [
        "The action of $ X $ on the qubit:\n",
        "\n",
        "$ X \\ket{0} = \\ket{1} $.\n",
        "\n",
        "More explicitly, $ X \\ket{0} = \\X \\vzero = \\vone = \\ket{1} $.\n",
        "\n",
        "Similarly, $ X \\ket{1} = \\ket{0} $.\n",
        "\n",
        "More explicitly, $ X \\ket{1} = \\X \\vone = \\vzero = \\ket{0} $."
      ]
    },
    {
      "cell_type": "markdown",
      "metadata": {
        "id": "8x22mYzc5__f"
      },
      "source": [
        "<div style=\"background-color:#fff;color:#555555;font-size:13px;\">\n",
        "<b><i>Why is the NOT operator referred to as the x-gate?<i></b>\n",
        "   \n",
        "In Bronze, we use only real numbers, but we should note that complex numbers are also used in quantum computing. When complex numbers are used, the state of a qubit can be represented by a four dimensional real number valued vector, which is not possible to visualize. On the other hand, it is possible to represent such state in three dimensions (with real numbers). This representation is called [Bloch sphere](https://en.wikipedia.org/wiki/Bloch_sphere).\n",
        "\n",
        "In three dimensions, we have axes: x, y, and z. X refers to the rotation with respect to x-axis. Similarly, we have the rotation with respect to y-axis and z-axis. In Bronze, we will also see the operator Z (z-gate). The operator Y is defined with complex numbers.\n",
        "</div>"
      ]
    },
    {
      "cell_type": "markdown",
      "metadata": {
        "id": "GNDbwYM75__f"
      },
      "source": [
        "<h3> Hadamard operator</h3>\n",
        "\n",
        "Hadamard operator ($ H $ or h-gate) looks similar to a fair coin-flipping.\n",
        "\n",
        "$$\n",
        "    H = \\hadamard.\n",
        "$$\n",
        "\n",
        "But, there are certain dissimilarities:\n",
        "\n",
        "- we have a <u>negative entry</u>, and\n",
        "- instead of $ \\frac{1}{2} $, we have <u>its square root</u> $ \\mypar{ \\frac{1}{\\sqrt{2}} } $.\n",
        "\n",
        "<font color=\"blue\"> Quantum systems can have negative transitions. </font>\n",
        "\n",
        "<font color=\"blue\"> Can probabilistic systems be extended with negative values?</font>"
      ]
    },
    {
      "cell_type": "markdown",
      "metadata": {
        "id": "fg_P7zYv5__f"
      },
      "source": [
        "<h4> One-step Hadamard</h4>\n",
        "\n",
        "Start in $ \\ket{0} $.\n",
        "\n",
        "After applying $ H $:\n",
        "\n",
        "$$\n",
        "  H \\ket{0} =  \\hadamard \\vzero =  \\stateplus.\n",
        "$$\n",
        "\n",
        "After measurement, we observe the states $ \\ket{0} $ and $ \\ket{1} $ with equal probability $ \\frac{1}{2} $.\n",
        "\n",
        "How can this be possible when their values are $ \\frac{1}{\\sqrt{2}} $?"
      ]
    },
    {
      "cell_type": "markdown",
      "metadata": {
        "id": "6sct1u025__g"
      },
      "source": [
        "<img src=\"https://gitlab.com/qworld/qeducation/qbook101/raw/main/qbook101/images/ch2/photon/photon3a.jpg\" width=\"45%\" align=\"left\">"
      ]
    },
    {
      "cell_type": "markdown",
      "metadata": {
        "id": "dfPN8X4h5__g"
      },
      "source": [
        "Let's start in $ \\ket{1} $.\n",
        "\n",
        "After applying $ H $:\n",
        "\n",
        "$$\n",
        "    H \\ket{1} = \\hadamard \\vone = \\stateminus.\n",
        "$$\n",
        "\n",
        "After measurement, we observe the states $ \\ket{0} $ and $ \\ket{1} $ with equal probability $ \\frac{1}{2} $.\n",
        "\n",
        "We obtain the same values even when one of the values is negative."
      ]
    },
    {
      "cell_type": "markdown",
      "metadata": {
        "id": "cyNR2ssW5__g"
      },
      "source": [
        "<img src=\"https://gitlab.com/qworld/qeducation/qbook101/raw/main/qbook101/images/ch2/photon/photon3c.jpg\" width=\"35%\" align=\"left\">"
      ]
    },
    {
      "cell_type": "markdown",
      "metadata": {
        "id": "j0obYxXG5__g"
      },
      "source": [
        "<i>The absolute value of a negative value is positive.</i>\n",
        "\n",
        "<i>The square of a negative value is also positive.</i>\n",
        "\n",
        "As we have observed, the second fact fits better when reading the measurement results.\n",
        "\n",
        "<font color=\"blue\"><b> When a quantum system is measured, the probability of observing one state is the square of its value [*].</b></font>\n",
        "\n",
        "The value of the system being in a state is called its <b>amplitude</b>.\n",
        "\n",
        "In the above example, the amplitudes of states $\\ket{0}$ and $ \\ket{1} $ are respectively $ \\sqrttwo $ and $ -\\sqrttwo $.\n",
        "\n",
        "The probabilities of observing them after a measurement are $ \\onehalf $.\n",
        "\n",
        "_Remark that, after observing state $ 0 $, the new state will be $ \\ket{0} $, and, after observing state $ 1 $, the new state will be $ \\ket{1} $._\n",
        "\n",
        "_[*] the square of its magnitude value when using complex numbers_"
      ]
    },
    {
      "cell_type": "markdown",
      "metadata": {
        "id": "ICPUo4cp5__g"
      },
      "source": [
        "### States $ \\ket{+} $ and $ \\ket{-} $"
      ]
    },
    {
      "cell_type": "markdown",
      "metadata": {
        "id": "Zeh8sef35__g"
      },
      "source": [
        "In the literature, the quantum states obtained after applying $ H $ to $ \\ket{0} $ and $ \\ket{1} $ are known as **ket-plus** ($\\ket{+}$) and **ket-minus** ($ \\ket{-} $) states, respectively:\n",
        "\n",
        "$ \\ket{+} = H \\ket{0} = \\hadamard \\vzero = \\stateplus $\n",
        "\n",
        "$ \\ket{-} = H \\ket{1} =  \\hadamard \\vone = \\stateminus $"
      ]
    },
    {
      "cell_type": "markdown",
      "metadata": {
        "id": "50dKAmwB5__g"
      },
      "source": [
        "<h3> Task 1 </h3>\n",
        "\n",
        "What are the probabilities of observing the states  $ \\ket{0} $ and $ \\ket{1} $ if the system is in $ \\myvector{-\\frac{3}{5} \\\\ - \\frac{4}{5}} $ or $ \\myrvector{\\frac{3}{5} \\\\ -\\frac{4}{5}} $ or $ \\myrvector{\\frac{1}{\\sqrt{3}} \\\\ - \\frac{\\sqrt{2}}{\\sqrt{3}}} $?"
      ]
    },
    {
      "cell_type": "code",
      "execution_count": null,
      "metadata": {
        "id": "_ehn2k1n5__g"
      },
      "outputs": [
        {
          "ename": "NameError",
          "evalue": "name 'Statevector' is not defined",
          "output_type": "error",
          "traceback": [
            "\u001b[1;31m---------------------------------------------------------------------------\u001b[0m",
            "\u001b[1;31mNameError\u001b[0m                                 Traceback (most recent call last)",
            "Cell \u001b[1;32mIn[3], line 17\u001b[0m\n\u001b[0;32m     14\u001b[0m normalized_state \u001b[38;5;241m=\u001b[39m state \u001b[38;5;241m/\u001b[39m np\u001b[38;5;241m.\u001b[39mlinalg\u001b[38;5;241m.\u001b[39mnorm(state)\n\u001b[0;32m     16\u001b[0m \u001b[38;5;66;03m# Create a Statevector object\u001b[39;00m\n\u001b[1;32m---> 17\u001b[0m sv \u001b[38;5;241m=\u001b[39m Statevector(normalized_state)\n\u001b[0;32m     19\u001b[0m \u001b[38;5;66;03m# Get probabilities of |0> and |1>\u001b[39;00m\n\u001b[0;32m     20\u001b[0m prob_0 \u001b[38;5;241m=\u001b[39m \u001b[38;5;28mabs\u001b[39m(sv[\u001b[38;5;241m0\u001b[39m])\u001b[38;5;241m*\u001b[39m\u001b[38;5;241m*\u001b[39m\u001b[38;5;241m2\u001b[39m\n",
            "\u001b[1;31mNameError\u001b[0m: name 'Statevector' is not defined"
          ]
        }
      ],
      "source": [
        "from qiskit import Statevector  \n",
        "import numpy as np\n",
        "\n",
        "# Define the states\n",
        "states = [\n",
        "    np.array([-3/5, -4/5]),            # State 1\n",
        "    np.array([3/5, -4/5]),             # State 2\n",
        "    np.array([1/np.sqrt(3), -np.sqrt(2)/np.sqrt(3)])  # State 3\n",
        "]\n",
        "\n",
        "# Calculate probabilities for each state\n",
        "for i, state in enumerate(states, 1):\n",
        "    # Normalize the state (just in case)\n",
        "    normalized_state = state / np.linalg.norm(state)\n",
        "    \n",
        "    # Create a Statevector object\n",
        "    sv = Statevector(normalized_state)\n",
        "    \n",
        "    # Get probabilities of |0> and |1>\n",
        "    prob_0 = abs(sv[0])**2\n",
        "    prob_1 = abs(sv[1])**2\n",
        "    \n",
        "    print(f\"State {i}: {state}\")\n",
        "    print(f\"P(|0>) = {prob_0:.4f} (≈ {prob_0*100:.1f}%)\")\n",
        "    print(f\"P(|1>) = {prob_1:.4f} (≈ {prob_1*100:.1f}%)\\n\")"
      ]
    },
    {
      "cell_type": "markdown",
      "metadata": {
        "id": "N-fN1nIY5__h"
      },
      "source": [
        "<h3> Quantum state </h3>\n",
        "\n",
        "<i>What do we know at this point?</i>\n",
        "<ul>\n",
        "    <li> A quantum state can be represented by a vector, in which each entry can be zero, a positive value, or a negative value. </li>\n",
        "    <li> We can also say that the amplitude of being in any state can be zero, a positive value, or a negative value. </li>\n",
        "    <li> The probability of observing one state after measurement is the square of its amplitude. </li>\n",
        "</ul>\n",
        "\n",
        "<i>What else can we say?</i>\n",
        "\n",
        "Can the entries of a quantum state be arbitrary?\n",
        "\n",
        "Do you remember the properties of a probabilistic state?"
      ]
    }
  ],
  "metadata": {
    "colab": {
      "provenance": []
    },
    "kernelspec": {
      "display_name": "base",
      "language": "python",
      "name": "python3"
    },
    "language_info": {
      "codemirror_mode": {
        "name": "ipython",
        "version": 3
      },
      "file_extension": ".py",
      "mimetype": "text/x-python",
      "name": "python",
      "nbconvert_exporter": "python",
      "pygments_lexer": "ipython3",
      "version": "3.12.7"
    }
  },
  "nbformat": 4,
  "nbformat_minor": 0
}
