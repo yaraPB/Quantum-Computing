{
  "cells": [
    {
      "cell_type": "markdown",
      "metadata": {
        "id": "C-q3SJLj2kGD"
      },
      "source": [
        "<a href=\"https://qworld.net\" target=\"_blank\" align=\"left\"><img src=\"https://gitlab.com/qworld/qeducation/qbook101/raw/main/qworld/images/header.jpg\" align=\"left\"></a>\n",
        "$ \\newcommand{\\bra}[1]{\\langle #1|} $\n",
        "$ \\newcommand{\\ket}[1]{|#1\\rangle} $\n",
        "$ \\newcommand{\\braket}[2]{\\langle #1|#2\\rangle} $\n",
        "$ \\newcommand{\\dot}[2]{ #1 \\cdot #2} $\n",
        "$ \\newcommand{\\biginner}[2]{\\left\\langle #1,#2\\right\\rangle} $\n",
        "$ \\newcommand{\\mymatrix}[2]{\\left( \\begin{array}{#1} #2\\end{array} \\right)} $\n",
        "$ \\newcommand{\\myvector}[1]{\\mymatrix{c}{#1}} $\n",
        "$ \\newcommand{\\myrvector}[1]{\\mymatrix{r}{#1}} $\n",
        "$ \\newcommand{\\mypar}[1]{\\left( #1 \\right)} $\n",
        "$ \\newcommand{\\mybigpar}[1]{ \\Big( #1 \\Big)} $\n",
        "$ \\newcommand{\\sqrttwo}{\\frac{1}{\\sqrt{2}}} $\n",
        "$ \\newcommand{\\dsqrttwo}{\\dfrac{1}{\\sqrt{2}}} $\n",
        "$ \\newcommand{\\onehalf}{\\frac{1}{2}} $\n",
        "$ \\newcommand{\\donehalf}{\\dfrac{1}{2}} $\n",
        "$ \\newcommand{\\hadamard}{ \\mymatrix{rr}{ \\sqrttwo & \\sqrttwo \\\\ \\sqrttwo & -\\sqrttwo }} $\n",
        "$ \\newcommand{\\vzero}{\\myvector{1\\\\0}} $\n",
        "$ \\newcommand{\\vone}{\\myvector{0\\\\1}} $\n",
        "$ \\newcommand{\\stateplus}{\\myvector{ \\sqrttwo \\\\  \\sqrttwo } } $\n",
        "$ \\newcommand{\\stateminus}{ \\myrvector{ \\sqrttwo \\\\ -\\sqrttwo } } $\n",
        "$ \\newcommand{\\myarray}[2]{ \\begin{array}{#1}#2\\end{array}} $\n",
        "$ \\newcommand{\\X}{ \\mymatrix{cc}{0 & 1 \\\\ 1 & 0}  } $\n",
        "$ \\newcommand{\\I}{ \\mymatrix{rr}{1 & 0 \\\\ 0 & 1}  } $\n",
        "$ \\newcommand{\\Z}{ \\mymatrix{rr}{1 & 0 \\\\ 0 & -1}  } $\n",
        "$ \\newcommand{\\Htwo}{ \\mymatrix{rrrr}{ \\frac{1}{2} & \\frac{1}{2} & \\frac{1}{2} & \\frac{1}{2} \\\\ \\frac{1}{2} & -\\frac{1}{2} & \\frac{1}{2} & -\\frac{1}{2} \\\\ \\frac{1}{2} & \\frac{1}{2} & -\\frac{1}{2} & -\\frac{1}{2} \\\\ \\frac{1}{2} & -\\frac{1}{2} & -\\frac{1}{2} & \\frac{1}{2} } } $\n",
        "$ \\newcommand{\\CNOT}{ \\mymatrix{cccc}{1 & 0 & 0 & 0 \\\\ 0 & 1 & 0 & 0 \\\\ 0 & 0 & 0 & 1 \\\\ 0 & 0 & 1 & 0} } $\n",
        "$ \\newcommand{\\norm}[1]{ \\left\\lVert #1 \\right\\rVert } $\n",
        "$ \\newcommand{\\pstate}[1]{ \\lceil \\mspace{-1mu} #1 \\mspace{-1.5mu} \\rfloor } $\n",
        "$ \\newcommand{\\greenbit}[1] {\\mathbf{{\\color{green}#1}}} $\n",
        "$ \\newcommand{\\bluebit}[1] {\\mathbf{{\\color{blue}#1}}} $\n",
        "$ \\newcommand{\\redbit}[1] {\\mathbf{{\\color{red}#1}}} $\n",
        "$ \\newcommand{\\brownbit}[1] {\\mathbf{{\\color{brown}#1}}} $\n",
        "$ \\newcommand{\\blackbit}[1] {\\mathbf{{\\color{black}#1}}} $"
      ]
    },
    {
      "cell_type": "markdown",
      "metadata": {
        "id": "3exGd0512kGG"
      },
      "source": [
        "_prepared by Abuzer Yakaryilmaz_"
      ]
    },
    {
      "cell_type": "markdown",
      "metadata": {
        "id": "ULmsaqzp2kGH"
      },
      "source": [
        "<font size=\"28px\" style=\"font-size:28px;\" align=\"left\"><b>Hadamard Operator</b></font>\n",
        "<br>\n",
        "<br><br>\n",
        "[<img src=\"https://gitlab.com/qworld/qeducation/qbook101/raw/main/qworld/images/watch_lecture.jpg\" align=\"left\">](https://youtu.be/VKva2R5FVfI)\n",
        "<br><br><br>"
      ]
    },
    {
      "cell_type": "markdown",
      "metadata": {
        "id": "Jrgewq--2kGH",
        "jp-MarkdownHeadingCollapsed": true
      },
      "source": [
        "##### <font color=\"#08b806\">Please execute the following cell, it is necessary to distinguish between your local environment and Google Colab's"
      ]
    },
    {
      "cell_type": "code",
      "execution_count": 14,
      "metadata": {
        "id": "eazpsIIG2kGH"
      },
      "outputs": [],
      "source": [
        "import IPython\n",
        "\n",
        "def in_colab():\n",
        "    try:\n",
        "        import google.colab\n",
        "        return True\n",
        "    except:\n",
        "        return False\n",
        "\n",
        "SolutionToTask1 = lambda: IPython.display.display(IPython.display.Javascript('window.open(\"{url}\");'.format(url='https://colab.research.google.com/drive/1QPqQkPM2o5PfZ5CKIP1rb9EQNGdaG__Y?usp=sharing#scrollTo=OWFEbFqJ0-9S' if in_colab() else 'QB23_Q20_Hadamard_Solution.ipynb#task1')))\n",
        "\n",
        "if in_colab():\n",
        "    !pip install qiskit[visualization]==0.43.3\n",
        "    !pip install qiskit-aer"
      ]
    },
    {
      "cell_type": "markdown",
      "metadata": {
        "id": "S5YznR7z2kGI"
      },
      "source": [
        "##### An example quantum operator for quantum coin-flipping is Hadamard.\n",
        "\n",
        "It is defined as h-gate in Qiskit.\n",
        "\n",
        "We implement all three experiments by using Qiskit. Here we present the first and third experiment. The second experiment will be presented later.\n",
        "\n",
        "_This will be a warm-up step before introducing a quantum bit more formally._  "
      ]
    },
    {
      "cell_type": "markdown",
      "metadata": {
        "id": "HJVf0WmG2kGI"
      },
      "source": [
        "<h3> The first experiment</h3>\n",
        "\n",
        "Our quantum bit (<b>qubit</b>) starts in state 0, which is shown as $ \\ket{0} = \\myvector{1 \\\\ 0} $.\n",
        "\n",
        "<i>$ \\ket{\\cdot} $ is called ket-notation:  Ket-notation is used to represent a column vector in quantum mechanics.\n",
        "For a given column vector $ \\ket{v} $, its conjugate transpose is a row vector represented as $ \\bra{v} $ (bra-notation).\n",
        "</i>"
      ]
    },
    {
      "cell_type": "markdown",
      "metadata": {
        "id": "kMN09M8y2kGJ"
      },
      "source": [
        "<h4> The circuit with a single Hadamard </h4>\n",
        "\n",
        "We design a circuit with one qubit and apply quantum coin-flipping once."
      ]
    },
    {
      "cell_type": "code",
      "execution_count": 21,
      "metadata": {
        "id": "bpF2TV2R2kGJ"
      },
      "outputs": [
        {
          "data": {
            "image/png": "[encoded data removed]",
            "text/plain": [
              "<Figure size 317.14x200.667 with 1 Axes>"
            ]
          },
          "execution_count": 21,
          "metadata": {},
          "output_type": "execute_result"
        }
      ],
      "source": [
        "# import all necessary objects and methods for quantum circuits\n",
        "from qiskit import QuantumRegister, ClassicalRegister, QuantumCircuit\n",
        "from qiskit_aer import Aer\n",
        "\n",
        "# define a quantum register with one qubit\n",
        "q =  QuantumRegister(1,\"qreg\")\n",
        "\n",
        "# define a classical register with one bit\n",
        "# it stores the measurement result of the quantum part\n",
        "c = ClassicalRegister(1,\"creg\")\n",
        "\n",
        "# define our quantum circuit\n",
        "qc = QuantumCircuit(q,c)\n",
        "\n",
        "# apply h-gate (Hadamard: quantum coin-flipping) to the first qubit\n",
        "qc.h(q[0])\n",
        "\n",
        "# measure the first qubit, and store the result in the first classical bit\n",
        "qc.measure(q,c)\n",
        "\n",
        "# draw the circuit by using matplotlib\n",
        "qc.draw(output='mpl') # re-run the cell if the figure is not displayed"
      ]
    },
    {
      "cell_type": "markdown",
      "metadata": {
        "id": "SNGO_6sP2kGJ"
      },
      "source": [
        "<img src=\"https://gitlab.com/qworld/qeducation/qbook101/raw/main/qbook101/images/ch2/photon/photon1.jpg\" width=\"40%\">"
      ]
    },
    {
      "cell_type": "code",
      "execution_count": 16,
      "metadata": {
        "id": "5uJuSoa72kGK"
      },
      "outputs": [
        {
          "ename": "NameError",
          "evalue": "name 'execute' is not defined",
          "output_type": "error",
          "traceback": [
            "\u001b[31m---------------------------------------------------------------------------\u001b[39m",
            "\u001b[31mNameError\u001b[39m                                 Traceback (most recent call last)",
            "\u001b[36mCell\u001b[39m\u001b[36m \u001b[39m\u001b[32mIn[16]\u001b[39m\u001b[32m, line 3\u001b[39m\n\u001b[32m      1\u001b[39m \u001b[38;5;66;03m# execute the circuit 10000 times in the local simulator\u001b[39;00m\n\u001b[32m----> \u001b[39m\u001b[32m3\u001b[39m job = \u001b[43mexecute\u001b[49m(qc,Aer.get_backend(\u001b[33m'\u001b[39m\u001b[33mqasm_simulator\u001b[39m\u001b[33m'\u001b[39m),shots=\u001b[32m10000\u001b[39m)\n\u001b[32m      4\u001b[39m counts = job.result().get_counts(qc)\n\u001b[32m      5\u001b[39m \u001b[38;5;28mprint\u001b[39m(counts) \u001b[38;5;66;03m# print the outcomes\u001b[39;00m\n",
            "\u001b[31mNameError\u001b[39m: name 'execute' is not defined"
          ]
        }
      ],
      "source": [
        "# execute the circuit 10000 times in the local simulator\n",
        "\n",
        "job = execute(qc,Aer.get_backend('qasm_simulator'),shots=10000)\n",
        "counts = job.result().get_counts(qc)\n",
        "print(counts) # print the outcomes\n",
        "\n",
        "print()\n",
        "n_zeros = counts['0']\n",
        "n_ones = counts['1']\n",
        "print(\"State 0 is observed with frequency %\",100*n_zeros/(n_zeros+n_ones))\n",
        "print(\"State 1 is observed with frequency %\",100*n_ones/(n_zeros+n_ones))\n",
        "\n",
        "# we can show the result by using histogram\n",
        "print()\n",
        "from qiskit.visualization import plot_histogram\n",
        "plot_histogram(counts)"
      ]
    },
    {
      "cell_type": "markdown",
      "metadata": {
        "id": "yQNHhVwU2kGK"
      },
      "source": [
        "The numbers of outcomes '0's and '1's are expected to be close to each other.\n",
        "\n",
        "<img src=\"https://gitlab.com/qworld/qeducation/qbook101/raw/main/qbook101/images/ch2/photon/photon2.jpg\" width=\"40%\" align=\"left\">"
      ]
    },
    {
      "cell_type": "markdown",
      "metadata": {
        "id": "kcaXAwpo2kGK"
      },
      "source": [
        "<b style=\"color:black;\"> As we have observed after this implementation, quantum systems output probabilistically.</b>"
      ]
    },
    {
      "cell_type": "markdown",
      "metadata": {
        "id": "su_KZWtk2kGK"
      },
      "source": [
        "<h3> The third experiment </h3>\n",
        "\n",
        "_We will examine the second experiment later because it requires intermediate measurement. (We can do intermediate measurements in simulators, but it is not possible in the real machines.)_\n",
        "\n",
        "Now, we implement the third experiment.\n",
        "\n",
        "<img src=\"https://gitlab.com/qworld/qeducation/qbook101/raw/main/qbook101/images/ch2/photon/photon6.jpg\" width=\"60%\" align=\"left\">"
      ]
    },
    {
      "cell_type": "markdown",
      "metadata": {
        "id": "Et3qn58L2kGK"
      },
      "source": [
        "<h4> The circuit with two Hadamards </h4>\n",
        "\n",
        "We design a circuit with one qubit and apply quantum coin-flipping twice."
      ]
    },
    {
      "cell_type": "code",
      "execution_count": null,
      "metadata": {
        "id": "B1RoOkH32kGK"
      },
      "outputs": [],
      "source": [
        "# import all necessary objects and methods for quantum circuits\n",
        "from qiskit import QuantumRegister, ClassicalRegister, QuantumCircuit, execute, Aer\n",
        "\n",
        "# define a quantum register with one qubit\n",
        "q2 =  QuantumRegister(1,\"qreg2\")\n",
        "\n",
        "# define a classical register with one bit\n",
        "# it stores the measurement result of the quantum part\n",
        "c2 = ClassicalRegister(1,\"creg2\")\n",
        "\n",
        "# define our quantum circuit\n",
        "qc2 = QuantumCircuit(q2,c2)\n",
        "\n",
        "# apply h-gate (Hadamard: quantum coin-flipping) to the first qubit\n",
        "qc2.h(q2[0])\n",
        "\n",
        "# apply h-gate (Hadamard: quantum coin-flipping) to the first qubit once more\n",
        "qc2.h(q2[0])\n",
        "\n",
        "# measure the first qubit, and store the result in the first classical bit\n",
        "qc2.measure(q2,c2)\n",
        "\n",
        "# draw the circuit by using matplotlib\n",
        "qc2.draw(output='mpl') # re-run the cell if the figure is not displayed"
      ]
    },
    {
      "cell_type": "code",
      "execution_count": null,
      "metadata": {
        "id": "39JcEdD52kGK"
      },
      "outputs": [],
      "source": [
        "# execute the circuit 10000 times in the local simulator\n",
        "\n",
        "job = execute(qc2,Aer.get_backend('qasm_simulator'),shots=10000)\n",
        "counts2 = job.result().get_counts(qc2)\n",
        "print(counts2) # print the outcomes"
      ]
    },
    {
      "cell_type": "markdown",
      "metadata": {
        "id": "7PJDJowX2kGK"
      },
      "source": [
        "The <u>only outcome</u> must be '0'.\n",
        "\n",
        "<img src=\"https://gitlab.com/qworld/qeducation/qbook101/raw/main/qbook101/images/ch2/photon/photon7.jpg\" width=\"60%\" align=\"left\">"
      ]
    },
    {
      "cell_type": "markdown",
      "metadata": {
        "id": "holqTJd22kGK"
      },
      "source": [
        "<h3> Task 1 </h3>\n",
        "\n",
        "Remember that x-gate flips the value of a qubit.\n",
        "\n",
        "Design a quantum circuit with a single qubit.\n",
        "\n",
        "The qubit is initially set to $ \\ket{0} $.\n",
        "\n",
        "Set the value of qubit to $ \\ket{1} $ by using x-gate.\n",
        "\n",
        "Experiment 1: Apply one Hadamard gate, make measurement, and execute your program 10000 times.\n",
        "\n",
        "Experiment 2: Apply two Hadamard gates, make measurement, and execute your program 10000 times.\n",
        "\n",
        "Compare your results.\n",
        "\n",
        "The following two diagrams represent these experiments."
      ]
    },
    {
      "cell_type": "markdown",
      "metadata": {
        "id": "D4RdxNph2kGK"
      },
      "source": [
        "<table>\n",
        "    <tr>\n",
        "        <td><img src=\"https://gitlab.com/qworld/qeducation/qbook101/raw/main/qbook101/images/ch2/photon/photon8.jpg\" width=\"80%\"></td>\n",
        "        <td><img src=\"https://gitlab.com/qworld/qeducation/qbook101/raw/main/qbook101/images/ch2/photon/photon9.jpg\" width=\"70%\"></td>\n",
        "    </tr>\n",
        "</table>"
      ]
    },
    {
      "cell_type": "code",
      "execution_count": 25,
      "metadata": {
        "id": "MyU5kVfE2kGL"
      },
      "outputs": [
        {
          "data": {
            "image/png": "[encoded data removed]",
            "text/plain": [
              "<Figure size 400.751x200.667 with 1 Axes>"
            ]
          },
          "execution_count": 25,
          "metadata": {},
          "output_type": "execute_result"
        }
      ],
      "source": [
        "from qiskit import QuantumRegister, ClassicalRegister, QuantumCircuit\n",
        "\n",
        "q =  QuantumRegister(1,\"qreg\")\n",
        "\n",
        "c = ClassicalRegister(1,\"creg\")\n",
        "\n",
        "qc = QuantumCircuit(q,c)\n",
        "\n",
        "# applying the x-gate\n",
        "qc.x(q[0])\n",
        "\n",
        "# apply the h-gate (quantum coin flipping)\n",
        "qc.h(q[0])\n",
        "\n",
        "qc.measure(q,c)\n",
        "qc.draw(output='mpl')"
      ]
    },
    {
      "cell_type": "markdown",
      "metadata": {},
      "source": [
        "<h1 style=\"color: rgb(251, 29, 170)\">Important notes on the gates </h1>\n",
        "\n",
        "**1. X gate:** This gate is analogous to the NOT gate in classical computing. It flips the state of the qubit from |0⟩ to |1⟩ or from |1⟩ to |0⟩.\n",
        "\n",
        "**2. Z gate:** This gate flips the phase of the |1⟩ state, leaving the |0⟩ state unchanged.\n",
        "\n",
        "**3. Y gate:** This gate is equivalent to applying both X and Z gates and a global phase.\n",
        "\n",
        "**4. Hadamard gate:** This gate creates a superposition state by transforming the |0⟩ state into an equal superposition of the |0⟩ and |1⟩ states.\n",
        "\n",
        "**5. S gate:** This gate is a 90-degree phase shift gate that introduces a phase shift of π/2 radians to the |1⟩ state.\n",
        "\n",
        "**6. Arbitrary rotation gates:** Arbitrary rotation gates are a class of single-qubit gates that allow for arbitrary rotations around the three axes of the Bloch sphere (see definition of a Bloch sphere below). There are three arbitrary rotation gates in quantum computing: Rx(θ), Ry(θ), and Rz(θ). These gates are sometimes referred to as single-qubit rotation gates, or simply rotation gates.\n",
        "\n",
        "**7. T gate:** This gate is a 45-degree phase shift gate that introduces a phase shift of π/4 radians to the |1⟩ state."
      ]
    },
    {
      "cell_type": "markdown",
      "metadata": {
        "id": "dniDrL5L2kGL"
      },
      "source": [
        "To check out our solution, run the next cell:"
      ]
    },
    {
      "cell_type": "code",
      "execution_count": 26,
      "metadata": {
        "id": "1eJsD21m2kGL"
      },
      "outputs": [
        {
          "data": {
            "application/javascript": "window.open(\"QB23_Q20_Hadamard_Solution.ipynb#task1\");",
            "text/plain": [
              "<IPython.core.display.Javascript object>"
            ]
          },
          "metadata": {},
          "output_type": "display_data"
        }
      ],
      "source": [
        "SolutionToTask1()  # show solution for task 1"
      ]
    },
    {
      "cell_type": "markdown",
      "metadata": {},
      "source": []
    }
  ],
  "metadata": {
    "colab": {
      "collapsed_sections": [
        "Jrgewq--2kGH"
      ],
      "provenance": []
    },
    "kernelspec": {
      "display_name": "Python 3",
      "language": "python",
      "name": "python3"
    },
    "language_info": {
      "codemirror_mode": {
        "name": "ipython",
        "version": 3
      },
      "file_extension": ".py",
      "mimetype": "text/x-python",
      "name": "python",
      "nbconvert_exporter": "python",
      "pygments_lexer": "ipython3",
      "version": "3.12.6"
    }
  },
  "nbformat": 4,
  "nbformat_minor": 0
}
