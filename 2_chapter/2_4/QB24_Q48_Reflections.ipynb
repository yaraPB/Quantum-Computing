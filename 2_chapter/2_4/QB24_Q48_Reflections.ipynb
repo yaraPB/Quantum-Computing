{
  "cells": [
    {
      "cell_type": "markdown",
      "metadata": {
        "id": "uyrJkcQvDpjX"
      },
      "source": [
        "<a href=\"https://qworld.net\" target=\"_blank\" align=\"left\"><img src=\"https://gitlab.com/qworld/qeducation/qbook101/raw/main/qworld/images/header.jpg\" align=\"left\"></a>\n",
        "$ \\newcommand{\\bra}[1]{\\langle #1|} $\n",
        "$ \\newcommand{\\ket}[1]{|#1\\rangle} $\n",
        "$ \\newcommand{\\braket}[2]{\\langle #1|#2\\rangle} $\n",
        "$ \\newcommand{\\dot}[2]{ #1 \\cdot #2} $\n",
        "$ \\newcommand{\\biginner}[2]{\\left\\langle #1,#2\\right\\rangle} $\n",
        "$ \\newcommand{\\mymatrix}[2]{\\left( \\begin{array}{#1} #2\\end{array} \\right)} $\n",
        "$ \\newcommand{\\myvector}[1]{\\mymatrix{c}{#1}} $\n",
        "$ \\newcommand{\\myrvector}[1]{\\mymatrix{r}{#1}} $\n",
        "$ \\newcommand{\\mypar}[1]{\\left( #1 \\right)} $\n",
        "$ \\newcommand{\\mybigpar}[1]{ \\Big( #1 \\Big)} $\n",
        "$ \\newcommand{\\sqrttwo}{\\frac{1}{\\sqrt{2}}} $\n",
        "$ \\newcommand{\\dsqrttwo}{\\dfrac{1}{\\sqrt{2}}} $\n",
        "$ \\newcommand{\\onehalf}{\\frac{1}{2}} $\n",
        "$ \\newcommand{\\donehalf}{\\dfrac{1}{2}} $\n",
        "$ \\newcommand{\\hadamard}{ \\mymatrix{rr}{ \\sqrttwo & \\sqrttwo \\\\ \\sqrttwo & -\\sqrttwo }} $\n",
        "$ \\newcommand{\\vzero}{\\myvector{1\\\\0}} $\n",
        "$ \\newcommand{\\vone}{\\myvector{0\\\\1}} $\n",
        "$ \\newcommand{\\stateplus}{\\myvector{ \\sqrttwo \\\\  \\sqrttwo } } $\n",
        "$ \\newcommand{\\stateminus}{ \\myrvector{ \\sqrttwo \\\\ -\\sqrttwo } } $\n",
        "$ \\newcommand{\\myarray}[2]{ \\begin{array}{#1}#2\\end{array}} $\n",
        "$ \\newcommand{\\X}{ \\mymatrix{cc}{0 & 1 \\\\ 1 & 0}  } $\n",
        "$ \\newcommand{\\I}{ \\mymatrix{rr}{1 & 0 \\\\ 0 & 1}  } $\n",
        "$ \\newcommand{\\Z}{ \\mymatrix{rr}{1 & 0 \\\\ 0 & -1}  } $\n",
        "$ \\newcommand{\\Htwo}{ \\mymatrix{rrrr}{ \\frac{1}{2} & \\frac{1}{2} & \\frac{1}{2} & \\frac{1}{2} \\\\ \\frac{1}{2} & -\\frac{1}{2} & \\frac{1}{2} & -\\frac{1}{2} \\\\ \\frac{1}{2} & \\frac{1}{2} & -\\frac{1}{2} & -\\frac{1}{2} \\\\ \\frac{1}{2} & -\\frac{1}{2} & -\\frac{1}{2} & \\frac{1}{2} } } $\n",
        "$ \\newcommand{\\CNOT}{ \\mymatrix{cccc}{1 & 0 & 0 & 0 \\\\ 0 & 1 & 0 & 0 \\\\ 0 & 0 & 0 & 1 \\\\ 0 & 0 & 1 & 0} } $\n",
        "$ \\newcommand{\\norm}[1]{ \\left\\lVert #1 \\right\\rVert } $\n",
        "$ \\newcommand{\\pstate}[1]{ \\lceil \\mspace{-1mu} #1 \\mspace{-1.5mu} \\rfloor } $\n",
        "$ \\newcommand{\\greenbit}[1] {\\mathbf{{\\color{green}#1}}} $\n",
        "$ \\newcommand{\\bluebit}[1] {\\mathbf{{\\color{blue}#1}}} $\n",
        "$ \\newcommand{\\redbit}[1] {\\mathbf{{\\color{red}#1}}} $\n",
        "$ \\newcommand{\\brownbit}[1] {\\mathbf{{\\color{brown}#1}}} $\n",
        "$ \\newcommand{\\blackbit}[1] {\\mathbf{{\\color{black}#1}}} $"
      ]
    },
    {
      "cell_type": "markdown",
      "metadata": {
        "id": "wh5ZCd8kDpja"
      },
      "source": [
        "_prepared by Abuzer Yakaryilmaz_"
      ]
    },
    {
      "cell_type": "markdown",
      "metadata": {
        "id": "St0ZXhLMDpja"
      },
      "source": [
        "<font size=\"28px\" style=\"font-size:28px;\" align=\"left\"><b> Reflections</b></font>\n",
        "<br>\n",
        "<br><br>\n",
        "[<img src=\"https://gitlab.com/qworld/qeducation/qbook101/raw/main/qworld/images/watch_lecture.jpg\" align=\"left\">](https://youtu.be/nzj7kw1Ycms)\n",
        "<br><br><br>"
      ]
    },
    {
      "cell_type": "markdown",
      "metadata": {
        "id": "kUZdlQa5Dpjb",
        "jp-MarkdownHeadingCollapsed": true
      },
      "source": [
        "##### <font color=\"#08b806\">Please execute the following cell, it is necessary to distinguish between your local environment and Google Colab's"
      ]
    },
    {
      "cell_type": "code",
      "execution_count": 1,
      "metadata": {
        "id": "iY8V4PaZDpjb"
      },
      "outputs": [],
      "source": [
        "import IPython\n",
        "\n",
        "def in_colab():\n",
        "    try:\n",
        "        import google.colab\n",
        "        return True\n",
        "    except:\n",
        "        return False\n",
        "\n",
        "path_files = \"./\" if in_colab() else \"../qworld/include/\"\n",
        "\n",
        "SolutionToTask1 = lambda: IPython.display.display(IPython.display.Javascript('window.open(\"{url}\");'.format(url='https://colab.research.google.com/drive/11jNS1YKUI0JIQX-ZaQnmRAnm8Yxvxn5-?usp=sharing#scrollTo=dxUIW7fMCyv7' if in_colab() else 'QB24_Q48_Reflections_Solutions.ipynb#task1')))\n",
        "SolutionToTask2 = lambda: IPython.display.display(IPython.display.Javascript('window.open(\"{url}\");'.format(url='https://colab.research.google.com/drive/11jNS1YKUI0JIQX-ZaQnmRAnm8Yxvxn5-?usp=sharing#scrollTo=sDRugdgGCyv8' if in_colab() else 'QB24_Q48_Reflections_Solutions.ipynb#task2')))\n",
        "SolutionToTask3 = lambda: IPython.display.display(IPython.display.Javascript('window.open(\"{url}\");'.format(url='https://colab.research.google.com/drive/11jNS1YKUI0JIQX-ZaQnmRAnm8Yxvxn5-?usp=sharing#scrollTo=7XzZseHJCyv9' if in_colab() else 'QB24_Q48_Reflections_Solutions.ipynb#task3')))\n",
        "\n",
        "if in_colab():\n",
        "    url = \"https://gitlab.com/qworld/qeducation/qbook101/raw/main/qworld/include/quantum.py\"\n",
        "    !wget --no-cache -O quantum.py {url}\n",
        "\n",
        "    url = \"https://gitlab.com/qworld/qeducation/qbook101/raw/main/qworld/include/drawing.py\"\n",
        "    !wget --no-cache -O drawing.py {url}\n",
        "\n",
        "    url = \"https://gitlab.com/qworld/qeducation/qbook101/raw/main/qworld/include/quantum_state.py\"\n",
        "    !wget --no-cache -O quantum_state.py {url}\n",
        "\n",
        "    url = \"https://gitlab.com/qworld/qeducation/qbook101/raw/main/qworld/include/grover.py\"\n",
        "    !wget --no-cache -O grover.py {url}\n",
        "\n",
        "    !pip install qiskit[visualization]==0.43.3\n",
        "    !pip install qiskit-aer"
      ]
    },
    {
      "cell_type": "markdown",
      "metadata": {
        "id": "s1Jv-pgvDpjc"
      },
      "source": [
        "##### _We use certain tools from python library \"<b>matplotlib.pyplot</b>\" for drawing. Check the notebook [Python: Drawing](../python/Python06_Drawing.ipynb) for the list of these tools._"
      ]
    },
    {
      "cell_type": "markdown",
      "metadata": {
        "id": "cmPL6qmlDpjc"
      },
      "source": [
        "We start with a very basic reflection."
      ]
    },
    {
      "cell_type": "markdown",
      "metadata": {
        "id": "ShlVMOU-Dpjc"
      },
      "source": [
        "<h3> Z-gate (operator) </h3>\n",
        "\n",
        "The indentity operator $ I = \\mymatrix{cc}{1 & 0 \\\\ 0 & 1} $ does not affect the computation.\n",
        "\n",
        "What about the following operator?\n",
        "\n",
        "$ Z = \\Z $.\n",
        "\n",
        "It is very similar to the identity operator.\n",
        "\n",
        "Consider the quantum state $ \\ket{u} = \\myvector{ \\frac{3}{5} \\\\ \\frac{4}{5} }  $.\n",
        "\n",
        "We calculate the new quantum state after applying $ Z $ to $ \\ket{u} $:\n",
        "\n",
        "$ \\ket{u'} = Z \\ket{u} =  \\Z  \\myvector{ \\frac{3}{5} \\\\ \\frac{4}{5} } =  \\myrvector{ \\frac{3}{5} \\\\ -\\frac{4}{5} } $.\n",
        "\n",
        "We draw both states below."
      ]
    },
    {
      "cell_type": "code",
      "execution_count": null,
      "metadata": {
        "id": "PhIjsscKDpjd"
      },
      "outputs": [],
      "source": [
        "quantum_file = path_files+\"quantum.py\"\n",
        "%run $quantum_file\n",
        "\n",
        "draw_qubit()\n",
        "\n",
        "draw_quantum_state(3/5,4/5,\"u\")\n",
        "\n",
        "draw_quantum_state(3/5,-4/5,\"u'\")\n",
        "\n",
        "show_plt()"
      ]
    },
    {
      "cell_type": "markdown",
      "metadata": {
        "id": "mltTQfj5Dpjd"
      },
      "source": [
        "When we apply $ Z $ to the state $ \\ket{u'} $, we obtain the state $\\ket{u}$ again: $  \\Z \\myrvector{ \\frac{3}{5} \\\\ -\\frac{4}{5} } =  \\myvector{ \\frac{3}{5} \\\\ \\frac{4}{5} }  $.\n",
        "\n",
        "It is easy to see that the operator $Z$ is a reflection and its **line of reflection** is the $x$-axis.\n",
        "\n",
        "Remark that applying the same reflection twice on the unit circle does not make any change."
      ]
    },
    {
      "cell_type": "markdown",
      "metadata": {
        "id": "5DZGh_kyDpjd"
      },
      "source": [
        "<h3> Task 1 </h3>\n",
        "\n",
        "Create a quantum circuit with 5 qubits.\n",
        "\n",
        "Apply h-gate (Hadamard operator) to each qubit.\n",
        "\n",
        "Apply z-gate ($Z$ operator) to randomly picked qubits. (i.e., $ mycircuit.z(qreg[i]) $)\n",
        "\n",
        "Apply h-gate to each qubit.\n",
        "\n",
        "Measure each qubit.\n",
        "\n",
        "Execute your program 1000 times.\n",
        "\n",
        "Compare the outcomes of the qubits affected by z-gates and the outcomes of the qubits not affected by z-gates.\n",
        "\n",
        "Does z-gate change the outcome?\n",
        "\n",
        "Why?"
      ]
    },
    {
      "cell_type": "code",
      "execution_count": 11,
      "metadata": {
        "id": "nhhS9TH8Dpjd"
      },
      "outputs": [
        {
          "data": {
            "image/png": "[encoded data removed]",
            "text/plain": [
              "<Figure size 825.624x535.111 with 1 Axes>"
            ]
          },
          "metadata": {},
          "output_type": "display_data"
        },
        {
          "name": "stdout",
          "output_type": "stream",
          "text": [
            "{'10010': 39, '00011': 34, '11011': 17, '10111': 29, '01011': 42, '00010': 24, '11101': 23, '00001': 38, '11010': 28, '11110': 37, '10110': 40, '11000': 28, '10100': 37, '11100': 40, '10011': 29, '10000': 22, '00101': 33, '01000': 35, '10101': 42, '00000': 25, '10001': 29, '00100': 22, '01110': 40, '11111': 29, '01100': 33, '00110': 33, '01111': 27, '00111': 30, '01001': 30, '01101': 29, '11001': 28, '01010': 28}\n"
          ]
        }
      ],
      "source": [
        "# import all necessary objects and methods for quantum circuits\n",
        "from qiskit import QuantumRegister, ClassicalRegister, QuantumCircuit #, execute, Aer\n",
        "# import randrange for random choices\n",
        "from random import randrange\n",
        "import pylatexenc\n",
        "import matplotlib.pyplot as plt\n",
        "from qiskit_aer import AerSimulator\n",
        "# from qiskit.providers.aer import Aer\n",
        "from qiskit.primitives import Sampler\n",
        "\n",
        "q = QuantumRegister(5)\n",
        "c = ClassicalRegister(5)\n",
        "qc = QuantumCircuit(q, c)\n",
        "\n",
        "qrand = q[randrange(5)]\n",
        "\n",
        "for i in range(5):\n",
        "    qc.h(q[i])\n",
        "\n",
        "qc.z(qrand)\n",
        "\n",
        "# to prevent two consecutive gates, which would normally cancel eachother (like two consecutive X-gates), to cancel out\n",
        "qc.barrier()\n",
        "\n",
        "qc.measure(q,c)\n",
        "display(qc.draw(output='mpl'))\n",
        "\n",
        "# doesn't work in the newer versions of qiskit\n",
        "\n",
        "# job = execute(qc,Aer.get_backend('qasm_simulator'),shots=1000)\n",
        "# counts = job.result().get_counts(qc)\n",
        "# print(counts)\n",
        "\n",
        "backend = AerSimulator()  \n",
        "job = backend.run(qc, shots=1000)\n",
        "result = job.result()\n",
        "counts = result.get_counts(qc)\n",
        "\n",
        "print(counts)"
      ]
    },
    {
      "cell_type": "markdown",
      "metadata": {
        "id": "HrVNOoqDDpjd"
      },
      "source": [
        "To check out our solution, run the next cell:"
      ]
    },
    {
      "cell_type": "code",
      "execution_count": null,
      "metadata": {
        "id": "P247YXUbsd2e"
      },
      "outputs": [],
      "source": [
        "SolutionToTask1()  # show solution for task 1"
      ]
    },
    {
      "cell_type": "markdown",
      "metadata": {
        "id": "eJlgg3UYDpjd"
      },
      "source": [
        "<h3> Hadamard operator </h3>"
      ]
    },
    {
      "cell_type": "markdown",
      "metadata": {
        "id": "DAvXUwyMDpjd"
      },
      "source": [
        "Is Hadamard operator a reflection? If so, what is its line of reflection?\n",
        "\n",
        "Remember the following transitions.\n",
        "\n",
        "$ H \\ket{0} = \\hadamard \\vzero = \\stateplus = \\ket{+} ~~~$ and $~~~ H \\ket{+} = \\hadamard \\stateplus = \\vzero = \\ket{0} $.\n",
        "\n",
        "$ H \\ket{1} = \\hadamard \\vone = \\stateminus = \\ket{-} ~~~$ and $~~~ H \\ket{-} = \\hadamard \\stateminus = \\vone = \\ket{1} $."
      ]
    },
    {
      "cell_type": "code",
      "execution_count": null,
      "metadata": {
        "id": "p4s9suuEDpje"
      },
      "outputs": [],
      "source": [
        "quantum_file = path_files+\"quantum.py\"\n",
        "%run $quantum_file\n",
        "\n",
        "draw_qubit()\n",
        "\n",
        "sqrttwo=2**0.5\n",
        "\n",
        "draw_quantum_state(1,0,\"\")\n",
        "\n",
        "draw_quantum_state(1/sqrttwo,1/sqrttwo,\"|+>\")"
      ]
    },
    {
      "cell_type": "code",
      "execution_count": null,
      "metadata": {
        "id": "GPy6Ia7vDpje"
      },
      "outputs": [],
      "source": [
        "quantum_file = path_files+\"quantum.py\"\n",
        "%run $quantum_file\n",
        "\n",
        "draw_qubit()\n",
        "\n",
        "sqrttwo=2**0.5\n",
        "\n",
        "draw_quantum_state(0,1,\"\")\n",
        "\n",
        "draw_quantum_state(1/sqrttwo,-1/sqrttwo,\"|->\")"
      ]
    },
    {
      "cell_type": "markdown",
      "metadata": {
        "id": "4OWtvmIPDpje"
      },
      "source": [
        "<h3> Hadamard - geometrical interpretation </h3>"
      ]
    },
    {
      "cell_type": "markdown",
      "metadata": {
        "id": "9Kdu-9jCDpje"
      },
      "source": [
        "Hadamard operator is a reflection and its line of reflection is represented below.\n",
        "\n",
        "It is the line obtained by rotating $x$-axis with $ \\frac{\\pi}{8} $ radians in counter-clockwise direction."
      ]
    },
    {
      "cell_type": "code",
      "execution_count": null,
      "metadata": {
        "id": "52BwiTCiDpje",
        "scrolled": true
      },
      "outputs": [],
      "source": [
        "quantum_file = path_files+\"quantum.py\"\n",
        "%run $quantum_file\n",
        "\n",
        "draw_qubit()\n",
        "\n",
        "sqrttwo=2**0.5\n",
        "\n",
        "draw_quantum_state(1,0,\"\")\n",
        "draw_quantum_state(1/sqrttwo,1/sqrttwo,\"|+>\")\n",
        "\n",
        "draw_quantum_state(0,1,\"\")\n",
        "draw_quantum_state(1/sqrttwo,-1/sqrttwo,\"|->\")\n",
        "\n",
        "# line of reflection for Hadamard\n",
        "from matplotlib.pyplot import arrow\n",
        "arrow(-1.109,-0.459,2.218,0.918,linestyle='dotted',color='red')\n",
        "\n",
        "# drawing the angle with |0>-axis\n",
        "from matplotlib.pyplot import gca, text\n",
        "from matplotlib.patches import Arc\n",
        "gca().add_patch( Arc((0,0),0.4,0.4,angle=0,theta1=0,theta2=22.5) )\n",
        "text(0.09,0.015,'.',fontsize=30)\n",
        "text(0.25,0.03,'\\u03C0/8')\n",
        "gca().add_patch( Arc((0,0),0.4,0.4,angle=0,theta1=22.5,theta2=45) )\n",
        "text(0.075,0.065,'.',fontsize=30)\n",
        "text(0.21,0.16,'\\u03C0/8')\n",
        "show_plt()"
      ]
    },
    {
      "cell_type": "markdown",
      "metadata": {
        "id": "bSvnthF3Dpje"
      },
      "source": [
        "<h3> Task 2 </h3>\n",
        "\n",
        "Randomly create a quantum state and multiply it with Hadamard matrix to find its reflection.\n",
        "\n",
        "Draw both states.\n",
        "\n",
        "Repeat the task for a few times."
      ]
    },
    {
      "cell_type": "code",
      "execution_count": null,
      "metadata": {
        "id": "42nu-soUDpje"
      },
      "outputs": [],
      "source": [
        "quantum_file = path_files+\"quantum.py\"\n",
        "%run $quantum_file\n",
        "from math import sqrt\n",
        "from random import randrange\n",
        "\n",
        "draw_qubit()\n",
        "\n",
        "# creating the Hamard matrix\n",
        "val = 1/sqrt(2)\n",
        "hadamard = [\n",
        "            [val, val],\n",
        "            [val, -val]\n",
        "           ]\n",
        "\n",
        "# creating a random quantum state\n",
        "q_state = [0, 0]\n",
        "q_state[0] = randrange(100) * 0.01\n",
        "q_state[1] = randrange(100) * 0.01\n",
        "\n",
        "# multiply them:\n",
        "final = [0, 0]\n",
        "final[0] = q_state[0]*hadamard[0][0] + q_state[0]*hadamard[0][1]\n",
        "final[1] = q_state[1]*hadamard[1][0] + q_state[0]*hadamard[1][1]\n",
        "\n",
        "\n",
        "\n",
        "# line of reflection for Hadamard\n",
        "from matplotlib.pyplot import arrow\n",
        "arrow(-1.109,-0.459,2.218,0.918,linestyle='dotted',color='red')\n",
        "\n"
      ]
    },
    {
      "cell_type": "markdown",
      "metadata": {
        "id": "uWne2hbDDpje"
      },
      "source": [
        "To check out our solution, run the next cell:"
      ]
    },
    {
      "cell_type": "code",
      "execution_count": null,
      "metadata": {
        "id": "eJGrCRlBsf2-"
      },
      "outputs": [],
      "source": [
        "SolutionToTask2()  # show solution for task 2"
      ]
    },
    {
      "cell_type": "markdown",
      "metadata": {
        "id": "Amk2iaG-Dpje"
      },
      "source": [
        "<h3> Task 3 </h3>\n",
        "\n",
        "Find the matrix representing the reflection over the line $y=x$.\n",
        "\n",
        "<i>Hint: Think about the reflections of the points $ \\myrvector{0 \\\\ 1} $, $ \\myrvector{-1 \\\\ 0} $, and $ \\myrvector{-\\sqrttwo \\\\ \\sqrttwo} $ over the line $y=x$.</i>\n",
        "\n",
        "Randomly create a quantum state and multiply it with this matrix to find its reflection over the line $y = x$.\n",
        "\n",
        "Draw both states.\n",
        "\n",
        "Repeat the task for a few times."
      ]
    },
    {
      "cell_type": "code",
      "execution_count": null,
      "metadata": {
        "id": "pQ1DetCJDpje"
      },
      "outputs": [],
      "source": [
        "quantum_file = path_files+\"quantum.py\"\n",
        "%run $quantum_file\n",
        "\n",
        "draw_qubit()\n",
        "\n",
        "# the line y=x\n",
        "from matplotlib.pyplot import arrow\n",
        "arrow(-1,-1,2,2,linestyle='dotted',color='red')\n",
        "\n",
        "#\n",
        "# your code is here\n",
        "#\n",
        "# draw_quantum_state(x,y,\"name\")"
      ]
    },
    {
      "cell_type": "markdown",
      "metadata": {
        "id": "AgOWstliDpje"
      },
      "source": [
        "To check out our solution, run the next cell:"
      ]
    },
    {
      "cell_type": "code",
      "execution_count": null,
      "metadata": {
        "id": "ur_GzstMshaH"
      },
      "outputs": [],
      "source": [
        "SolutionToTask3()  # show solution for task 3"
      ]
    },
    {
      "cell_type": "markdown",
      "metadata": {
        "id": "TZB5X2meDpje"
      },
      "source": [
        "<h3>Reflection Operators</h3>"
      ]
    },
    {
      "cell_type": "markdown",
      "metadata": {
        "id": "7B9MD-aTDpje"
      },
      "source": [
        "As we have observed, the following operators are reflections on the unit circle."
      ]
    },
    {
      "cell_type": "markdown",
      "metadata": {
        "id": "eMtY0iNlDpje"
      },
      "source": [
        "<b> Z operator:</b> $ Z = \\mymatrix{rr}{ 1 & 0 \\\\ 0 & -1 } $. The line of reflection is $x$-axis."
      ]
    },
    {
      "cell_type": "markdown",
      "metadata": {
        "id": "WF9ZEMIYDpje"
      },
      "source": [
        "<b> NOT operator:</b> $ X = \\mymatrix{rr}{ 0 & 1 \\\\ 1 & 0 } $. The line of reflection is $y=x$."
      ]
    },
    {
      "cell_type": "markdown",
      "metadata": {
        "id": "pSGGYsWQDpje"
      },
      "source": [
        "<b> Hadamard operator:</b> $ H = \\hadamard $. The line of reflection is $y= \\frac{\\sin(\\pi/8)}{\\cos(\\pi/8)} x$.\n",
        "\n",
        "It is the line passing through the origin making an angle $ \\pi/8 $ radians with $x$-axis."
      ]
    },
    {
      "cell_type": "markdown",
      "metadata": {
        "id": "fxz1nR-2Dpjf"
      },
      "source": [
        "<b>Arbitrary reflection operator:</b> Let $ \\theta $ be the angle of the line of reflection. Then, the martix form of reflection is represented as follows:\n",
        "\n",
        "$$ Ref(\\theta) = \\mymatrix{rr}{ \\cos(2\\theta) & \\sin(2\\theta) \\\\ \\sin(2\\theta) & -\\cos(2\\theta) } . $$"
      ]
    },
    {
      "cell_type": "markdown",
      "metadata": {
        "id": "wsWs-aBBDpjf"
      },
      "source": [
        "---\n",
        "\n",
        "<h3> Extra: Task 4 </h3>\n",
        "\n",
        "The matrix forms of rotations and reflections are similar to each other.\n",
        "\n",
        "Represent $ Ref(\\theta) $ as a combination of a basic reflection operator (i.e., $X$, $H$, or $Z$) and rotation $ R(\\theta) $."
      ]
    },
    {
      "cell_type": "markdown",
      "metadata": {
        "id": "EdQkS3G7Dpjf"
      },
      "source": [
        "<h3> Extra: Task 5 </h3>\n",
        "\n",
        "Randomly pick the angle $\\theta$.\n",
        "\n",
        "Draw the line of reflection with the unit circle.\n",
        "\n",
        "Construct the corresponding reflection matrix.\n",
        "\n",
        "Randomly create a quantum state and multiply it with this matrix to find its reflection.\n",
        "\n",
        "Draw both states.\n",
        "\n",
        "Repeat the task for a few times."
      ]
    },
    {
      "cell_type": "code",
      "execution_count": null,
      "metadata": {
        "id": "D5vPbFNKDpjf"
      },
      "outputs": [],
      "source": [
        "quantum_file = path_files+\"quantum.py\"\n",
        "%run $quantum_file\n",
        "\n",
        "draw_qubit()\n",
        "\n",
        "#\n",
        "# your code is here\n",
        "#\n",
        "# line of reflection\n",
        "# from matplotlib.pyplot import arrow\n",
        "# arrow(x,y,dx,dy,linestyle='dotted',color='red')\n",
        "#\n",
        "#\n",
        "# draw_quantum_state(x,y,\"name\")"
      ]
    }
  ],
  "metadata": {
    "colab": {
      "collapsed_sections": [
        "kUZdlQa5Dpjb"
      ],
      "provenance": []
    },
    "kernelspec": {
      "display_name": "base",
      "language": "python",
      "name": "python3"
    },
    "language_info": {
      "codemirror_mode": {
        "name": "ipython",
        "version": 3
      },
      "file_extension": ".py",
      "mimetype": "text/x-python",
      "name": "python",
      "nbconvert_exporter": "python",
      "pygments_lexer": "ipython3",
      "version": "3.12.7"
    }
  },
  "nbformat": 4,
  "nbformat_minor": 0
}
