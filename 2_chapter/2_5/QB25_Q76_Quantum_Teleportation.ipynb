{
  "cells": [
    {
      "cell_type": "markdown",
      "metadata": {
        "id": "y_kHfAQFV7pW"
      },
      "source": [
        "<a href=\"https://qworld.net\" target=\"_blank\" align=\"left\"><img src=\"https://gitlab.com/qworld/qeducation/qbook101/raw/main/qworld/images/header.jpg\" align=\"left\"></a>\n",
        "$ \\newcommand{\\bra}[1]{\\langle #1|} $\n",
        "$ \\newcommand{\\ket}[1]{|#1\\rangle} $\n",
        "$ \\newcommand{\\braket}[2]{\\langle #1|#2\\rangle} $\n",
        "$ \\newcommand{\\dot}[2]{ #1 \\cdot #2} $\n",
        "$ \\newcommand{\\biginner}[2]{\\left\\langle #1,#2\\right\\rangle} $\n",
        "$ \\newcommand{\\mymatrix}[2]{\\left( \\begin{array}{#1} #2\\end{array} \\right)} $\n",
        "$ \\newcommand{\\myvector}[1]{\\mymatrix{c}{#1}} $\n",
        "$ \\newcommand{\\myrvector}[1]{\\mymatrix{r}{#1}} $\n",
        "$ \\newcommand{\\mypar}[1]{\\left( #1 \\right)} $\n",
        "$ \\newcommand{\\mybigpar}[1]{ \\Big( #1 \\Big)} $\n",
        "$ \\newcommand{\\sqrttwo}{\\frac{1}{\\sqrt{2}}} $\n",
        "$ \\newcommand{\\dsqrttwo}{\\dfrac{1}{\\sqrt{2}}} $\n",
        "$ \\newcommand{\\onehalf}{\\frac{1}{2}} $\n",
        "$ \\newcommand{\\donehalf}{\\dfrac{1}{2}} $\n",
        "$ \\newcommand{\\hadamard}{ \\mymatrix{rr}{ \\sqrttwo & \\sqrttwo \\\\ \\sqrttwo & -\\sqrttwo }} $\n",
        "$ \\newcommand{\\vzero}{\\myvector{1\\\\0}} $\n",
        "$ \\newcommand{\\vone}{\\myvector{0\\\\1}} $\n",
        "$ \\newcommand{\\stateplus}{\\myvector{ \\sqrttwo \\\\  \\sqrttwo } } $\n",
        "$ \\newcommand{\\stateminus}{ \\myrvector{ \\sqrttwo \\\\ -\\sqrttwo } } $\n",
        "$ \\newcommand{\\myarray}[2]{ \\begin{array}{#1}#2\\end{array}} $\n",
        "$ \\newcommand{\\X}{ \\mymatrix{cc}{0 & 1 \\\\ 1 & 0}  } $\n",
        "$ \\newcommand{\\I}{ \\mymatrix{rr}{1 & 0 \\\\ 0 & 1}  } $\n",
        "$ \\newcommand{\\Z}{ \\mymatrix{rr}{1 & 0 \\\\ 0 & -1}  } $\n",
        "$ \\newcommand{\\Htwo}{ \\mymatrix{rrrr}{ \\frac{1}{2} & \\frac{1}{2} & \\frac{1}{2} & \\frac{1}{2} \\\\ \\frac{1}{2} & -\\frac{1}{2} & \\frac{1}{2} & -\\frac{1}{2} \\\\ \\frac{1}{2} & \\frac{1}{2} & -\\frac{1}{2} & -\\frac{1}{2} \\\\ \\frac{1}{2} & -\\frac{1}{2} & -\\frac{1}{2} & \\frac{1}{2} } } $\n",
        "$ \\newcommand{\\CNOT}{ \\mymatrix{cccc}{1 & 0 & 0 & 0 \\\\ 0 & 1 & 0 & 0 \\\\ 0 & 0 & 0 & 1 \\\\ 0 & 0 & 1 & 0} } $\n",
        "$ \\newcommand{\\norm}[1]{ \\left\\lVert #1 \\right\\rVert } $\n",
        "$ \\newcommand{\\pstate}[1]{ \\lceil \\mspace{-1mu} #1 \\mspace{-1.5mu} \\rfloor } $\n",
        "$ \\newcommand{\\greenbit}[1] {\\mathbf{{\\color{green}#1}}} $\n",
        "$ \\newcommand{\\bluebit}[1] {\\mathbf{{\\color{blue}#1}}} $\n",
        "$ \\newcommand{\\redbit}[1] {\\mathbf{{\\color{red}#1}}} $\n",
        "$ \\newcommand{\\brownbit}[1] {\\mathbf{{\\color{brown}#1}}} $\n",
        "$ \\newcommand{\\blackbit}[1] {\\mathbf{{\\color{black}#1}}} $"
      ]
    },
    {
      "cell_type": "markdown",
      "metadata": {
        "id": "eBxlJWxFV7pZ"
      },
      "source": [
        "_prepared by Abuzer Yakaryilmaz_"
      ]
    },
    {
      "cell_type": "markdown",
      "metadata": {
        "id": "Je9Wxt6MV7pa"
      },
      "source": [
        "<font size=\"28px\" style=\"font-size:28px;\" align=\"left\"><b> Quantum Teleportation </b></font>\n",
        "<br>\n",
        "<br><br>\n",
        "[<img src=\"https://gitlab.com/qworld/qeducation/qbook101/raw/main/qworld/images/watch_lecture.jpg\" align=\"left\">](https://youtu.be/4PYeoqALKHk)\n",
        "<br><br><br>"
      ]
    },
    {
      "cell_type": "markdown",
      "metadata": {
        "id": "zbcvmMLPV7pa",
        "jp-MarkdownHeadingCollapsed": true
      },
      "source": [
        "##### <font color=\"#08b806\">Please execute the following cell, it is necessary to distinguish between your local environment and Google Colab's"
      ]
    },
    {
      "cell_type": "code",
      "execution_count": null,
      "metadata": {
        "id": "KwbtiohHV7pa"
      },
      "outputs": [],
      "source": [
        "import IPython\n",
        "\n",
        "def in_colab():\n",
        "    try:\n",
        "        import google.colab\n",
        "        return True\n",
        "    except:\n",
        "        return False\n",
        "\n",
        "SolutionToTask1 = lambda: IPython.display.display(IPython.display.Javascript('window.open(\"{url}\");'.format(url='https://colab.research.google.com/drive/1zIoQk5pEDt-8MWjfMGv4Jbq0WTBei1A0?usp=sharing#scrollTo=QEcEVruZVWCH' if in_colab() else 'QB25_Q76_Quantum_Teleportation_Solutions.ipynb#task1')))\n",
        "SolutionToTask2 = lambda: IPython.display.display(IPython.display.Javascript('window.open(\"{url}\");'.format(url='https://colab.research.google.com/drive/1zIoQk5pEDt-8MWjfMGv4Jbq0WTBei1A0?usp=sharing#scrollTo=lNey2gmkVWCI' if in_colab() else 'QB25_Q76_Quantum_Teleportation_Solutions.ipynb#task2')))\n",
        "SolutionToTask3 = lambda: IPython.display.display(IPython.display.Javascript('window.open(\"{url}\");'.format(url='https://colab.research.google.com/drive/1zIoQk5pEDt-8MWjfMGv4Jbq0WTBei1A0?usp=sharing#scrollTo=1jOQYRTjVWCJ' if in_colab() else 'QB25_Q76_Quantum_Teleportation_Solutions.ipynb#task3')))\n",
        "SolutionToTask4 = lambda: IPython.display.display(IPython.display.Javascript('window.open(\"{url}\");'.format(url='https://colab.research.google.com/drive/1zIoQk5pEDt-8MWjfMGv4Jbq0WTBei1A0?usp=sharing#scrollTo=2IdDNh58VWCJ' if in_colab() else 'QB25_Q76_Quantum_Teleportation_Solutions.ipynb#task4')))\n",
        "SolutionToTask5 = lambda: IPython.display.display(IPython.display.Javascript('window.open(\"{url}\");'.format(url='https://colab.research.google.com/drive/1zIoQk5pEDt-8MWjfMGv4Jbq0WTBei1A0?usp=sharing#scrollTo=0EIyON6PVWCK' if in_colab() else 'QB25_Q76_Quantum_Teleportation_Solutions.ipynb#task5')))\n",
        "\n",
        "if in_colab():\n",
        "    !pip install qiskit[visualization]==0.43.3\n",
        "    !pip install qiskit-aer"
      ]
    },
    {
      "cell_type": "markdown",
      "metadata": {
        "id": "0IBCje84V7pb"
      },
      "source": [
        "##### <hr>\n",
        "\n",
        "_**Prepare a few blank sheets of paper**_\n",
        "- _**to draw the circuit of the following protocol step by step and**_\n",
        "- _**to solve some of tasks requiring certain calculations.**_\n",
        "\n",
        "<hr>"
      ]
    },
    {
      "cell_type": "markdown",
      "metadata": {
        "id": "_1uRCKNOV7pb"
      },
      "source": [
        "Asja wants to send a qubit to Balvis by using only classical communication.\n",
        "\n",
        "Let $ \\ket{v} = \\myvector{a\\\\b} \\in \\mathbb{R}^2 $ be the quantum state.\n",
        "\n",
        "_Discussion:_ If Asja has many copies of this qubit, then she can collect the statistics based on these qubits and obtain an approximation of $ a $ and $ b $, say $ \\tilde{a} $ and $\\tilde{b}$, respectively. After this, Asja can send $ \\tilde{a} $ and $\\tilde{b}$ by using many classical bits, the number of which depends on the precision of the amplitudes."
      ]
    },
    {
      "cell_type": "markdown",
      "metadata": {
        "id": "BrXzhCsHV7pc"
      },
      "source": [
        "On the other hand, If Asja and Balvis share the entangled qubits in state $ \\sqrttwo\\ket{00} + \\sqrttwo\\ket{11} $ in advance, then it is possible for Balvis to create $ \\ket{v} $ in his qubit after receiving two bits of information from Asja."
      ]
    },
    {
      "cell_type": "markdown",
      "metadata": {
        "id": "PLcL6wmmV7pc"
      },
      "source": [
        "<h3> Protocol </h3>\n",
        "\n",
        "The protocol uses three qubits as specified below:\n",
        "\n",
        "<img src='https://gitlab.com/qworld/qeducation/qbook101/raw/main/qbook101/images/ch2/quantum_teleportation_qubits.png' width=\"25%\" align=\"left\">"
      ]
    },
    {
      "cell_type": "markdown",
      "metadata": {
        "id": "6cwZP9GBV7pc"
      },
      "source": [
        "Asja has two qubits and Balvis has one qubit.\n",
        "\n",
        "Asja's quantum message (key) is $ \\ket{v} = \\myvector{a\\\\b} = a\\ket{0} + b\\ket{1} $.\n",
        "\n",
        "The entanglement between Asja's second qubit and Balvis' qubit is  $ \\sqrttwo\\ket{00} + \\sqrttwo\\ket{11} $.\n",
        "\n",
        "So, the quantum state of the three qubits is\n",
        "\n",
        "$$ \\mypar{a\\ket{0} + b\\ket{1}}\\mypar{\\sqrttwo\\ket{00} + \\sqrttwo\\ket{11}}\n",
        "    = \\sqrttwo \\big( a\\ket{000} + a \\ket{011} + b\\ket{100} + b \\ket{111} \\big).  $$"
      ]
    },
    {
      "cell_type": "markdown",
      "metadata": {
        "id": "3mE6CBUEV7pc"
      },
      "source": [
        "<h4> CNOT operator by Asja </h4>\n",
        "\n",
        "Asja applies CNOT gate to her qubits where $q[2]$ is the control qubit and $q[1]$ is the target qubit."
      ]
    },
    {
      "cell_type": "markdown",
      "metadata": {
        "id": "c31WRxjDV7pd"
      },
      "source": [
        "<h3>Task 1</h3>\n",
        "\n",
        "Calculate the new quantum state after this CNOT operator."
      ]
    },
    {
      "cell_type": "markdown",
      "metadata": {
        "id": "_bAJ3lZXV7pd"
      },
      "source": [
        "To check out our solution, run the next cell:"
      ]
    },
    {
      "cell_type": "code",
      "execution_count": null,
      "metadata": {
        "id": "HCTUUP38V7pd"
      },
      "outputs": [],
      "source": [
        "SolutionToTask1()  # show solution for task 1"
      ]
    },
    {
      "cell_type": "markdown",
      "metadata": {
        "id": "3n1xIPCqV7pd"
      },
      "source": [
        "<h3>Hadamard operator by Asja</h3>\n",
        "\n",
        "Asja applies Hadamard gate to $q[2]$."
      ]
    },
    {
      "cell_type": "markdown",
      "metadata": {
        "id": "EFy13UezV7pd"
      },
      "source": [
        "<h3>Task 2</h3>\n",
        "\n",
        "Calculate the new quantum state after this Hadamard operator.\n",
        "\n",
        "Verify that the resulting quantum state can be written as follows:\n",
        "\n",
        "$$  \n",
        "    \\frac{1}{2} \\ket{00} \\big( a\\ket{0}+b\\ket{1} \\big) +\n",
        "    \\frac{1}{2} \\ket{01} \\big( a\\ket{1}+b\\ket{0} \\big) +\n",
        "    \\frac{1}{2} \\ket{10} \\big( a\\ket{0}-b\\ket{1} \\big) +\n",
        "    \\frac{1}{2} \\ket{11} \\big( a\\ket{1}-b\\ket{0} \\big) .\n",
        "$$"
      ]
    },
    {
      "cell_type": "markdown",
      "metadata": {
        "id": "1xUnH07VV7pd"
      },
      "source": [
        "To check out our solution, run the next cell:"
      ]
    },
    {
      "cell_type": "code",
      "execution_count": null,
      "metadata": {
        "id": "m4mqbCE3V7pd"
      },
      "outputs": [],
      "source": [
        "SolutionToTask2()  # show solution for task 2"
      ]
    },
    {
      "cell_type": "markdown",
      "metadata": {
        "id": "w-3YVR69V7pd"
      },
      "source": [
        "<h3> Measurement by Asja </h3>\n",
        "\n",
        "Asja measures her qubits. With probability $ \\frac{1}{4} $, she can observe one of the basis states.\n",
        "\n",
        "Depeding on the measurement outcomes, Balvis' qubit is in the following states:\n",
        "\n",
        "1. \"00\": $ \\ket{v_{00}} = a\\ket{0} + b \\ket{1} $\n",
        "2. \"01\": $ \\ket{v_{01}} =  a\\ket{1} + b \\ket{0} $\n",
        "3. \"10\": $ \\ket{v_{10}} =  a\\ket{0} - b \\ket{1} $\n",
        "4. \"11\": $ \\ket{v_{11}} =  a\\ket{1} - b \\ket{0} $\n"
      ]
    },
    {
      "cell_type": "markdown",
      "metadata": {
        "id": "zVEWRIdsV7pd"
      },
      "source": [
        "As can be observed, the amplitudes $ a $ and $ b $ are \"transferred\" to Balvis' qubit in each case.\n",
        "\n",
        "If Asja sends the measurement outcomes, then Balvis can construct $ \\ket{v} $ exactly."
      ]
    },
    {
      "cell_type": "markdown",
      "metadata": {
        "id": "uIv9iGZmV7pd"
      },
      "source": [
        "<h3>Task 3</h3>\n",
        "\n",
        "Asja sends the measurement outcomes to Balvis by using two classical bits: $ x $ and $ y $.\n",
        "\n",
        "For each $ (x,y) $ pair, determine the quantum operator(s) that Balvis can apply to obtain $ \\ket{v} = a\\ket{0}+b\\ket{1} $ exactly."
      ]
    },
    {
      "cell_type": "markdown",
      "metadata": {
        "id": "2BRo-wGyV7pd"
      },
      "source": [
        "To check out our solution, run the next cell:"
      ]
    },
    {
      "cell_type": "code",
      "execution_count": null,
      "metadata": {
        "id": "ZFNCbiGGV7pd"
      },
      "outputs": [],
      "source": [
        "SolutionToTask3()  # show solution for task 3"
      ]
    },
    {
      "cell_type": "markdown",
      "metadata": {
        "id": "OjlHL2yGV7pd"
      },
      "source": [
        "<h3> Task 4 </h3>\n",
        "\n",
        "Create a quantum circuit with three qubits as described at the beginning of this notebook and two classical bits.\n",
        "\n",
        "Implement the protocol given above until Asja makes the measurements (included).\n",
        "- The state of $q[2]$ can be set by the rotation with a randomly picked angle.\n",
        "- Remark that Balvis does not make the measurement.\n",
        "\n",
        "At this point, read the state vector of the circuit by using \"statevector_simulator\".\n",
        "\n",
        "_When a circuit having measurement is simulated by \"statevector_simulator\", the simulator picks one of the outcomes, and so we see one of the states after the measurement._\n",
        "\n",
        "Verify that the state of Balvis' qubit is in one of these: $ \\ket{v_{00}}$, $ \\ket{v_{01}}$, $ \\ket{v_{10}}$, and $ \\ket{v_{11}}$.\n",
        "\n",
        "Guess the measurement outcome obtained by \"statevector_simulator\"."
      ]
    },
    {
      "cell_type": "code",
      "execution_count": null,
      "metadata": {
        "id": "2yvcWdoxV7pe"
      },
      "outputs": [],
      "source": [
        "from qiskit import QuantumRegister, ClassicalRegister, QuantumCircuit, execute, Aer\n",
        "from math import pi, cos, sin\n",
        "from random import randrange\n",
        "\n",
        "# quantum circuit with three qubits and three bits\n",
        "q =  QuantumRegister(3,\"q\")\n",
        "c = ClassicalRegister(3,\"c\")\n",
        "qc = QuantumCircuit(q,c)\n",
        "\n",
        "# rotate the first qubit by random angle\n",
        "r = randrange(100)\n",
        "theta = 2*pi*(r/100) # radians\n",
        "print(\"the picked angle is\",r*3.6,\"degrees and\",theta,\"radians\")\n",
        "a = cos(theta)\n",
        "b = sin(theta)\n",
        "print(\"a=\",round(a,3),\"b=\",round(b,3))\n",
        "print(\"a*a=\",round(a**2,3),\"b*b=\",round(b**2,3))\n",
        "qc.ry(2*theta,q[2])\n",
        "\n",
        "# creating an entanglement between q[1] and q[0]\n",
        "qc.h(q[1])\n",
        "qc.cx(q[1],q[0])\n",
        "\n",
        "# CNOT operator by Asja on her qubits where q[2] is the control qubit\n",
        "qc.cx(q[2],q[1])\n",
        "\n",
        "# Hadamard operator by Asja on q[2]\n",
        "qc.h(q[2])\n",
        "\n",
        "# the measurement done by Asja\n",
        "qc.measure(q[2],c[2])\n",
        "qc.measure(q[1],c[1])\n",
        "\n",
        "# draw thw circuit\n",
        "display(qc.draw(output='mpl',reverse_bits=True))\n",
        "\n",
        "# read the state vector\n",
        "job = execute(qc,Aer.get_backend('statevector_simulator'),optimization_level=0,shots=1)\n",
        "current_quantum_state=job.result().get_statevector(qc).data\n",
        "print(\"the state vector is\")\n",
        "for i in range(len(current_quantum_state)):\n",
        "    print(current_quantum_state[i].real)\n",
        "print()\n",
        "\n",
        "classical_outcomes = ['00','01','10','11']\n",
        "\n",
        "for i in range(4):\n",
        "    if (current_quantum_state[2*i].real != 0) or (current_quantum_state[2*i+1].real != 0):\n",
        "        print(\"the classical outcome is\",classical_outcomes[i])\n",
        "        classical_outcome = classical_outcomes[i]\n",
        "        balvis_state = [ current_quantum_state[2*i].real,current_quantum_state[2*i+1].real ]\n",
        "print()\n",
        "\n",
        "readable_quantum_state = \"|\"+classical_outcome+\">\"\n",
        "readable_quantum_state += \"(\"+str(round(balvis_state[0],3))+\"|0>+\"+str(round(balvis_state[1],3))+\"|1>)\"\n",
        "print(\"the new quantum state is\",readable_quantum_state)\n",
        "\n",
        "\n",
        "all_states = ['000','001','010','011','100','101','110','111']\n",
        "\n",
        "\n",
        "balvis_state_str = \"|\"+classical_outcome+\">(\"\n",
        "for i in range(len(current_quantum_state)):\n",
        "    if abs(current_quantum_state[i].real-a)<0.000001:\n",
        "        balvis_state_str += \"+a|\"+ all_states[i][2]+\">\"\n",
        "    elif abs(current_quantum_state[i].real+a)<0.000001:\n",
        "        balvis_state_str += \"-a|\"+ all_states[i][2]+\">\"\n",
        "    elif abs(current_quantum_state[i].real-b)<0.000001:\n",
        "        balvis_state_str += \"+b|\"+ all_states[i][2]+\">\"\n",
        "    elif abs(current_quantum_state[i].real+b)<0.000001:\n",
        "        balvis_state_str += \"-b|\"+ all_states[i][2]+\">\"\n",
        "balvis_state_str += \")\"\n",
        "print(\"the new quantum state is\",balvis_state_str)"
      ]
    },
    {
      "cell_type": "markdown",
      "metadata": {
        "id": "L7Z-ZZ4tV7pe"
      },
      "source": [
        "To check out our solution, run the next cell:"
      ]
    },
    {
      "cell_type": "code",
      "execution_count": null,
      "metadata": {
        "id": "vYEb1ZOXV7pe"
      },
      "outputs": [],
      "source": [
        "SolutionToTask4()  # show solution for task 4"
      ]
    },
    {
      "cell_type": "markdown",
      "metadata": {
        "id": "ILKQ3jqFV7pe"
      },
      "source": [
        "<h3> Task 5 </h3>\n",
        "\n",
        "Implement the protocol above by including the post-processing part done by Balvis, i.e., the measurement results by Asja are sent to Balvis and then he may apply $ X $ or $ Z $ gates depending on the measurement results.\n",
        "\n",
        "We use the classically controlled quantum operators.\n",
        "\n",
        "Since we do not make measurement on $ q[0] $, we define only 2 classical bits, each of which can also be defined separated.\n",
        "\n",
        "    q = QuantumRegister(3)\n",
        "    c2 = ClassicalRegister(1,'c2')\n",
        "    c1 = ClassicalRegister(1,'c1')\n",
        "    qc = QuantumCircuit(q,c1,c2)\n",
        "    ...\n",
        "    qc.measure(q[1],c1)\n",
        "    ...\n",
        "    qc.x(q[0]).c_if(c1,1) # x-gate is applied to q[0] if the classical bit c1 is equal to 1\n",
        "\n",
        "Read the state vector and verify that Balvis' state is $ \\myvector{a \\\\ b} $ after the post-processing."
      ]
    },
    {
      "cell_type": "code",
      "execution_count": null,
      "metadata": {
        "id": "Bpo041a4V7pe"
      },
      "outputs": [],
      "source": [
        "from qiskit import QuantumRegister, ClassicalRegister, QuantumCircuit, execute, Aer\n",
        "from math import pi, cos, sin\n",
        "from random import randrange\n",
        "\n",
        "# quantum circuit with three qubits and two bits\n",
        "q =  QuantumRegister(3,\"q\")\n",
        "c1 = ClassicalRegister(1,\"c1\")\n",
        "c2 = ClassicalRegister(1,\"c2\")\n",
        "qc = QuantumCircuit(q,c1,c2)\n",
        "\n",
        "# rotate the first qubit by random angle\n",
        "r = randrange(100)\n",
        "theta = 2*pi*(r/100) # radians\n",
        "print(\"the picked angle is\",r*3.6,\"degrees and\",theta,\"radians\")\n",
        "a = cos(theta)\n",
        "b = sin(theta)\n",
        "print(\"a=\",round(a,4),\"b=\",round(b,4))\n",
        "qc.ry(2*theta,q[2])\n",
        "\n",
        "# creating an entanglement between q[1] and q[0]\n",
        "qc.h(q[1])\n",
        "qc.cx(q[1],q[0])\n",
        "\n",
        "# CNOT operator by Asja on her qubits where q[2] is the control qubit\n",
        "qc.cx(q[2],q[1])\n",
        "\n",
        "# Hadamard operator by Asja on q[2]\n",
        "qc.h(q[2])\n",
        "\n",
        "qc.barrier()\n",
        "\n",
        "# the measurement done by Asja\n",
        "qc.measure(q[2],c2)\n",
        "qc.measure(q[1],c1)\n",
        "\n",
        "qc.barrier()\n",
        "\n",
        "# post-processing done by Balvis\n",
        "qc.x(q[0]).c_if(c1,1)\n",
        "qc.z(q[0]).c_if(c2,1)\n",
        "\n",
        "# draw the circuit\n",
        "display(qc.draw(output='mpl',reverse_bits=True))\n",
        "\n",
        "# read the state vector\n",
        "job = execute(qc,Aer.get_backend('statevector_simulator'),optimization_level=0,shots=1)\n",
        "current_quantum_state=job.result().get_statevector(qc).data\n",
        "print(\"the state vector is\")\n",
        "for i in range(len(current_quantum_state)):\n",
        "    print(round(current_quantum_state[i].real,4))\n",
        "print()\n",
        "\n",
        "classical_outcomes = ['00','01','10','11']\n",
        "\n",
        "for i in range(4):\n",
        "    if (current_quantum_state[2*i].real != 0) or (current_quantum_state[2*i+1].real != 0):\n",
        "        print(\"the classical outcome is\",classical_outcomes[i])"
      ]
    },
    {
      "cell_type": "markdown",
      "metadata": {
        "id": "NUZ4G4vaV7pe"
      },
      "source": [
        "To check out our solution, run the next cell:"
      ]
    },
    {
      "cell_type": "code",
      "execution_count": null,
      "metadata": {
        "id": "VTJUf9YBV7pe"
      },
      "outputs": [],
      "source": [
        "SolutionToTask5()  # show solution for task 5"
      ]
    },
    {
      "cell_type": "markdown",
      "metadata": {
        "id": "VVs80P0ZV7pe"
      },
      "source": [
        "<!--\n",
        "<h3> Task 6 (optional) </h3>\n",
        "\n",
        "Observe that Balvis can also t\n",
        "\n",
        "Create a quantum circuit with four qubits and four classical bits.\n",
        "\n",
        "Assume that Asja has the first two qubits (number 3 and 2) and Balvis has the last two qubits (number 1 and 0).\n",
        "\n",
        "Create an entanglement between qubits 2 and 1.\n",
        "\n",
        "Implement the protocol (the state of the qubit can be set by a rotation with randomly picked angle):\n",
        "- If Asja teleports a qubit, then set the state of qubit 3.\n",
        "- If Balvis teleports a qubit, then set the state of qubit 0.\n",
        "-->"
      ]
    }
  ],
  "metadata": {
    "colab": {
      "collapsed_sections": [
        "zbcvmMLPV7pa"
      ],
      "provenance": []
    },
    "kernelspec": {
      "display_name": "Python 3 (ipykernel)",
      "language": "python",
      "name": "python3"
    },
    "language_info": {
      "codemirror_mode": {
        "name": "ipython",
        "version": 3
      },
      "file_extension": ".py",
      "mimetype": "text/x-python",
      "name": "python",
      "nbconvert_exporter": "python",
      "pygments_lexer": "ipython3",
      "version": "3.11.4"
    }
  },
  "nbformat": 4,
  "nbformat_minor": 0
}
